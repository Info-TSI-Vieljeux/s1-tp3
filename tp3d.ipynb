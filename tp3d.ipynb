{
 "cells": [
  {
   "cell_type": "markdown",
   "id": "999c73ce",
   "metadata": {},
   "source": [
    ">Ouvrir le notebook dans Colab en modifiant le début de son adresse dans le navigateur :<br>\n",
    "il faut remplacer **github.com** par **githubtocolab.com**.<br>\n",
    "Une fois vos réponses apportées, le notebook devra être sauvegardé dans GitHub, dans le repository du TP :<br>\n",
    "*Fichier > Enregistrer une copie dans Github*<br>\n",
    "*Info-TSI-Vieljeux/tpx-votre_nom*<br>\n",
    "\n",
    "---"
   ]
  },
  {
   "cell_type": "markdown",
   "id": "9f20300d",
   "metadata": {
    "deletable": false,
    "editable": false,
    "nbgrader": {
     "cell_type": "markdown",
     "checksum": "17335c27e26e60c3afb843d67d1cbcb8",
     "grade": false,
     "grade_id": "cell-99492afa027a211d",
     "locked": true,
     "schema_version": 3,
     "solution": false,
     "task": false
    }
   },
   "source": [
    "# Série temporelle"
   ]
  },
  {
   "cell_type": "code",
   "execution_count": null,
   "id": "88443dd2",
   "metadata": {},
   "outputs": [],
   "source": [
    "!pip install -q plotly==4.14.3 # sans cette update collab ne voulait pas faire le premier graphe"
   ]
  },
  {
   "cell_type": "code",
   "execution_count": null,
   "id": "74da6ebb",
   "metadata": {
    "deletable": false,
    "editable": false,
    "nbgrader": {
     "cell_type": "code",
     "checksum": "7447619ada8401f8259d6a318c7ca24e",
     "grade": false,
     "grade_id": "cell-c79e6574abd51265",
     "locked": true,
     "schema_version": 3,
     "solution": false,
     "task": false
    }
   },
   "outputs": [],
   "source": [
    "import pandas as pd # bibliothèques dédiée au traitement de jeux de données\n",
    "import matplotlib.pyplot as plt # bibliothèque graphique\n",
    "import seaborn as sns # bibliothèque graphique reposant sur matplotlib et dédiée plus particulièrement à la représentation de jeux de données\n",
    "import plotly.express as px # libraire permettant des graphes interactifs\n",
    "import plotly.graph_objects as go # complémentaire à la première\n",
    "# paramètres par défaut pour le graphes\n",
    "plt.rcParams['figure.figsize'] = (15, 6)\n",
    "plt.rcParams['font.family'] = \"serif\"\n",
    "plt.rcParams['font.size'] = 13\n",
    "sns.set_style(\"white\")"
   ]
  },
  {
   "cell_type": "markdown",
   "id": "1d0bd4c4",
   "metadata": {
    "deletable": false,
    "editable": false,
    "nbgrader": {
     "cell_type": "markdown",
     "checksum": "6373abefb96637e6ea9fdcabc19d6e94",
     "grade": false,
     "grade_id": "cell-c065d0544fe584f1",
     "locked": true,
     "schema_version": 3,
     "solution": false,
     "task": false
    }
   },
   "source": [
    "Utilisons un nouveau jeu de données comprenant des relevés de conommation électrique allemands entre 2006 et 2018 :"
   ]
  },
  {
   "cell_type": "code",
   "execution_count": null,
   "id": "b41c4abb",
   "metadata": {
    "deletable": false,
    "editable": false,
    "nbgrader": {
     "cell_type": "code",
     "checksum": "3a600b6f5bdc9555b0043d80f5d0cd21",
     "grade": false,
     "grade_id": "cell-fdfceb0d054c5a60",
     "locked": true,
     "schema_version": 3,
     "solution": false,
     "task": false
    }
   },
   "outputs": [],
   "source": [
    "url = \"http://cordier-phychi.toile-libre.org/Info/github/elec_allemagne.csv\"\n",
    "serie_temp = pd.read_csv(url,sep=\",\")\n",
    "serie_temp.drop(columns=\"Wind+Solar\",inplace=True)\n",
    "serie_temp"
   ]
  },
  {
   "cell_type": "markdown",
   "id": "2fbfe674",
   "metadata": {
    "deletable": false,
    "editable": false,
    "nbgrader": {
     "cell_type": "markdown",
     "checksum": "67c2e39e94281e7f6b707ce54298510b",
     "grade": false,
     "grade_id": "cell-68324390f6eaa144",
     "locked": true,
     "schema_version": 3,
     "solution": false,
     "task": false
    }
   },
   "source": [
    "Petit toilettage des données : on transforme les valeurs de la colonne des dates en un type date reconnu par pandas et on les utilise comme index."
   ]
  },
  {
   "cell_type": "code",
   "execution_count": null,
   "id": "d662f1a8",
   "metadata": {},
   "outputs": [],
   "source": [
    "serie_temp['Date'] = pd.to_datetime(serie_temp['Date'])\n",
    "serie_temp = serie_temp.set_index('Date')\n",
    "serie_temp.head()"
   ]
  },
  {
   "cell_type": "markdown",
   "id": "ab658f2c",
   "metadata": {
    "deletable": false,
    "editable": false,
    "nbgrader": {
     "cell_type": "markdown",
     "checksum": "2875e175d2783df7e0c40c39712cd0d9",
     "grade": false,
     "grade_id": "cell-14e54cbc498ae7a4",
     "locked": true,
     "schema_version": 3,
     "solution": false,
     "task": false
    }
   },
   "source": [
    "On francise ensuite les noms de colonne..."
   ]
  },
  {
   "cell_type": "code",
   "execution_count": null,
   "id": "64ac150f",
   "metadata": {
    "deletable": false,
    "editable": false,
    "nbgrader": {
     "cell_type": "code",
     "checksum": "4dcd216eb202b931d370369e547743d3",
     "grade": false,
     "grade_id": "cell-8c81f9f0b675c29d",
     "locked": true,
     "schema_version": 3,
     "solution": false,
     "task": false
    }
   },
   "outputs": [],
   "source": [
    "serie_temp.columns = [\"Consommation\",\"Vent\",\"Solaire\"]\n",
    "serie_temp.head()"
   ]
  },
  {
   "cell_type": "markdown",
   "id": "9714e732",
   "metadata": {
    "deletable": false,
    "editable": false,
    "nbgrader": {
     "cell_type": "markdown",
     "checksum": "9cb0d40d08b74864ea85e8bd4e907fc2",
     "grade": false,
     "grade_id": "cell-6c4030adc9a4bd59",
     "locked": true,
     "schema_version": 3,
     "solution": false,
     "task": false
    }
   },
   "source": [
    "Et enfin, on ajoute des colonnes \"jour\", \"mois\" et \"année\"."
   ]
  },
  {
   "cell_type": "code",
   "execution_count": null,
   "id": "1ba924a0",
   "metadata": {
    "deletable": false,
    "editable": false,
    "nbgrader": {
     "cell_type": "code",
     "checksum": "09820b45f88a9816fa8c821c47d8e3e5",
     "grade": false,
     "grade_id": "cell-c36d17d23a6fd490",
     "locked": true,
     "schema_version": 3,
     "solution": false,
     "task": false
    }
   },
   "outputs": [],
   "source": [
    "serie_temp['jour'] = serie_temp.index.day_name()\n",
    "serie_temp['mois'] = serie_temp.index.month\n",
    "serie_temp['année'] = serie_temp.index.year\n",
    "serie_temp[\"date\"] = serie_temp.index\n",
    "serie_temp[\"date\"]=serie_temp[\"date\"].dt.date # pour aider Colab qui a des soucis avec les dates\n",
    "serie_temp.head()"
   ]
  },
  {
   "cell_type": "code",
   "execution_count": null,
   "id": "a5ec1c44",
   "metadata": {},
   "outputs": [],
   "source": [
    "px.line(serie_temp[[\"Consommation\",\"Vent\",\"Solaire\"]])"
   ]
  },
  {
   "cell_type": "markdown",
   "id": "0b760af2",
   "metadata": {
    "deletable": false,
    "editable": false,
    "nbgrader": {
     "cell_type": "markdown",
     "checksum": "f0e8394b792b70db510e2a195c808414",
     "grade": false,
     "grade_id": "cell-8e97b20541876fc3",
     "locked": true,
     "schema_version": 3,
     "solution": false,
     "task": false
    }
   },
   "source": [
    "On constate d'importantes variations saisonnières."
   ]
  },
  {
   "cell_type": "code",
   "execution_count": null,
   "id": "99cfdfad",
   "metadata": {},
   "outputs": [],
   "source": [
    "zoom = serie_temp[serie_temp['année']==2016]\n",
    "fig1 = px.line(zoom,'date','Consommation')\n",
    "fig2 = px.scatter(zoom,'date','Consommation',color='jour')\n",
    "fig = go.Figure()\n",
    "fig.add_traces([fig1.data[0],*[fig2.data[i] for i in range(7)]])"
   ]
  },
  {
   "cell_type": "markdown",
   "id": "910c7d81",
   "metadata": {
    "deletable": false,
    "editable": false,
    "nbgrader": {
     "cell_type": "markdown",
     "checksum": "5b02c7842757f0790ba6600c17505f48",
     "grade": false,
     "grade_id": "cell-3c18a0b7207d1163",
     "locked": true,
     "schema_version": 3,
     "solution": false,
     "task": false
    }
   },
   "source": [
    "Une variabilité hebdomadaire se superpose à la tendance saisonnière."
   ]
  },
  {
   "cell_type": "markdown",
   "id": "b8bd92fe",
   "metadata": {
    "deletable": false,
    "editable": false,
    "nbgrader": {
     "cell_type": "markdown",
     "checksum": "ed0242f077f347a43de1140512714679",
     "grade": false,
     "grade_id": "cell-e23a126d2b00030f",
     "locked": true,
     "schema_version": 3,
     "solution": false,
     "task": false
    }
   },
   "source": [
    "Grâce à la méthode des dataframe pandas `groupby`, on peut facilement grouper les donner de manière à obtenir les statistiques qui nous intéressent.<br>\n",
    "Exemple : trouvons combien d'électricité d'origine éolienne a été produite chaque mois en 2016."
   ]
  },
  {
   "cell_type": "code",
   "execution_count": null,
   "id": "834cfeb5",
   "metadata": {},
   "outputs": [],
   "source": [
    "serie_temp[serie_temp['année']==2016].groupby(\"mois\")[\"Vent\"].sum()"
   ]
  },
  {
   "cell_type": "markdown",
   "id": "2fe23630",
   "metadata": {
    "deletable": false,
    "editable": false,
    "nbgrader": {
     "cell_type": "markdown",
     "checksum": "e77db7f3929669120c09245765b1af82",
     "grade": false,
     "grade_id": "cell-a3c67f9ebb95453f",
     "locked": true,
     "schema_version": 3,
     "solution": false,
     "task": false
    }
   },
   "source": [
    "Sur le modèle précédent, déterminez le jour de la semaine où l'Allemagne a consommé le plus d'électricité en moyenne en 2016 (vous pourrez utilisez la méthode `mean` à la place de `sum`."
   ]
  },
  {
   "cell_type": "code",
   "execution_count": null,
   "id": "484bcc1e",
   "metadata": {},
   "outputs": [],
   "source": [
    "# Effacer les mauvaises réponses :\n",
    "jour = \"lundi\"\n",
    "jour = \"mardi\"\n",
    "jour = \"mercredi\"\n",
    "jour = \"jeudi\"\n",
    "jour = \"vendredi\"\n",
    "jour = \"samedi\"\n",
    "jour = \"dimanche\""
   ]
  },
  {
   "cell_type": "code",
   "execution_count": null,
   "id": "eae3fd82",
   "metadata": {
    "deletable": false,
    "editable": false,
    "nbgrader": {
     "cell_type": "code",
     "checksum": "eaa571c550bc025c9a3ea052fc9f7b3b",
     "grade": true,
     "grade_id": "jour",
     "locked": true,
     "points": 1,
     "schema_version": 3,
     "solution": false,
     "task": false
    }
   },
   "outputs": [],
   "source": [
    "# Cellule de Vérification (ne pas modifier)"
   ]
  },
  {
   "cell_type": "markdown",
   "id": "6a758b6d",
   "metadata": {
    "deletable": false,
    "editable": false,
    "nbgrader": {
     "cell_type": "markdown",
     "checksum": "da66835485909ac90da379c5a7511759",
     "grade": false,
     "grade_id": "cell-e2958e346cdea23f",
     "locked": true,
     "schema_version": 3,
     "solution": false,
     "task": false
    }
   },
   "source": [
    "Traçons une boîte à moustaches de la répartition des 3 variables mois par mois :"
   ]
  },
  {
   "cell_type": "code",
   "execution_count": null,
   "id": "91a24b14",
   "metadata": {},
   "outputs": [],
   "source": [
    "fig, axes = plt.subplots(3, 1, figsize=(15, 10), sharex=True)\n",
    "for var, ax in zip(['Consommation', 'Solaire', 'Vent'], axes):\n",
    "    sns.boxplot(data=serie_temp, x='mois', y=var, ax=ax)  \n",
    "    ax.set_ylabel('GWh')\n",
    "    ax.set_title(var)  \n",
    "    if ax != axes[-1]:\n",
    "        ax.set_xlabel('')"
   ]
  },
  {
   "cell_type": "markdown",
   "id": "447f91c8",
   "metadata": {
    "deletable": false,
    "editable": false,
    "nbgrader": {
     "cell_type": "markdown",
     "checksum": "4873c98dfc1a3cd8352bd6b118e52151",
     "grade": false,
     "grade_id": "cell-7d54d7ec2e8a5bff",
     "locked": true,
     "schema_version": 3,
     "solution": false,
     "task": false
    }
   },
   "source": [
    "On observe que :\n",
    "- les trois graphes présentent bien une variabilité saisonnière ; la consommation électrique est plus forte en hiver ainsi que la production éolienne (même si l'écart est moins marqué) et la production solaire est beaucoup plus importante en été.\n",
    "- beaucoup de valeurs se retrouvent à l'extérieur des moustaches supérieures pour la production éolienne, ce qui est probablement dû à des périodes de fort vent."
   ]
  },
  {
   "cell_type": "markdown",
   "id": "83e1f369",
   "metadata": {
    "deletable": false,
    "editable": false,
    "nbgrader": {
     "cell_type": "markdown",
     "checksum": "d49a1e700cb4aa3cbe1d64e600144176",
     "grade": false,
     "grade_id": "cell-25ba4a57b9015bbc",
     "locked": true,
     "schema_version": 3,
     "solution": false,
     "task": false
    }
   },
   "source": [
    "Regardons maintenant jour par jour :"
   ]
  },
  {
   "cell_type": "code",
   "execution_count": null,
   "id": "1acf0e44",
   "metadata": {},
   "outputs": [],
   "source": [
    "serie_temp[\"date\"]=(serie_temp.index.strftime('%d %B'))\n",
    "px.box(serie_temp,x='jour', y='Consommation',hover_data={\"date\"})"
   ]
  },
  {
   "cell_type": "markdown",
   "id": "e591f4d8",
   "metadata": {
    "deletable": false,
    "editable": false,
    "nbgrader": {
     "cell_type": "markdown",
     "checksum": "c8360a9c15d8b077079f1690f76099fd",
     "grade": false,
     "grade_id": "cell-a0b7863ed3d804c3",
     "locked": true,
     "schema_version": 3,
     "solution": false,
     "task": false
    }
   },
   "source": [
    "Pourquoi y a-t-il autant de points au-delà des moustaches les jours de semaine ?"
   ]
  },
  {
   "cell_type": "code",
   "execution_count": null,
   "id": "9a184dcd",
   "metadata": {},
   "outputs": [],
   "source": [
    "# Écrire votre explication dans la chaîne de caractères ci-dessous\n",
    "explication = \"\"\"\n",
    "bla\n",
    "bla\n",
    "bla\n",
    "\"\"\""
   ]
  },
  {
   "cell_type": "code",
   "execution_count": null,
   "id": "e6ee238d",
   "metadata": {
    "deletable": false,
    "editable": false,
    "nbgrader": {
     "cell_type": "code",
     "checksum": "5833957e24f27dfe0dcb9863e86630b8",
     "grade": true,
     "grade_id": "outliers",
     "locked": true,
     "points": 1,
     "schema_version": 3,
     "solution": false,
     "task": false
    }
   },
   "outputs": [],
   "source": [
    "# Cellule de Vérification (ne pas modifier)"
   ]
  }
 ],
 "metadata": {
  "kernelspec": {
   "display_name": "Python 3",
   "language": "python",
   "name": "python3"
  },
  "language_info": {
   "codemirror_mode": {
    "name": "ipython",
    "version": 3
   },
   "file_extension": ".py",
   "mimetype": "text/x-python",
   "name": "python",
   "nbconvert_exporter": "python",
   "pygments_lexer": "ipython3",
   "version": "3.8.10"
  }
 },
 "nbformat": 4,
 "nbformat_minor": 5
}
