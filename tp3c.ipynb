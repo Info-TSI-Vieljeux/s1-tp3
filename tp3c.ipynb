{
 "cells": [
  {
   "cell_type": "markdown",
   "id": "df9aeb11",
   "metadata": {},
   "source": [
    ">Ouvrir le notebook dans Colab en modifiant le début de son adresse dans le navigateur :<br>\n",
    "il faut remplacer **github.com** par **githubtocolab.com**.<br>\n",
    "Une fois vos réponses apportées, le notebook devra être sauvegardé dans GitHub, dans le repository du TP :<br>\n",
    "*Fichier > Enregistrer une copie dans Github*<br>\n",
    "*Info-TSI-Vieljeux/tpx-votre_nom*<br>\n",
    "\n",
    "---"
   ]
  },
  {
   "cell_type": "markdown",
   "id": "59da6120",
   "metadata": {
    "deletable": false,
    "editable": false,
    "nbgrader": {
     "cell_type": "markdown",
     "checksum": "97abef041d3fb39976626a9bafc2168b",
     "grade": false,
     "grade_id": "cell-0a8510eb54febfec",
     "locked": true,
     "schema_version": 3,
     "solution": false,
     "task": false
    }
   },
   "source": [
    "# Un peu de géographie"
   ]
  },
  {
   "cell_type": "code",
   "execution_count": null,
   "id": "cfc756d0",
   "metadata": {},
   "outputs": [],
   "source": [
    "%%capture\n",
    "!pip install plotly --upgrade"
   ]
  },
  {
   "cell_type": "code",
   "execution_count": null,
   "id": "2874fac3",
   "metadata": {},
   "outputs": [],
   "source": [
    "# imports\n",
    "import pandas as pd # bibliothèques dédiée au traitement de jeux de données\n",
    "import plotly.express as px # libraire permettant des graphes interactifs\n",
    "# données\n",
    "url = \"https://raw.githubusercontent.com/Info-TSI-Vieljeux/s1-tp3/main/data_monde_classe.csv\"\n",
    "data_monde = pd.read_csv(url,index_col=0)\n",
    "data_monde.head(3)"
   ]
  },
  {
   "cell_type": "markdown",
   "id": "daeba254",
   "metadata": {
    "deletable": false,
    "editable": false,
    "nbgrader": {
     "cell_type": "markdown",
     "checksum": "4c7d5080b42ed965b5512fdcbca2cb7e",
     "grade": false,
     "grade_id": "cell-264241bccc64de9f",
     "locked": true,
     "schema_version": 3,
     "solution": false,
     "task": false
    }
   },
   "source": [
    "Le module suivant va permettre d'ajouter à nos données le code à 3 lettres (SO 3166-1 alpha-3) de chaque pays.<br>\n",
    "Mais pourquoi donc ? `plotly express` permet de tracer la carte d'un pays directement à partir de ce petit code de 3 lettres !"
   ]
  },
  {
   "cell_type": "code",
   "execution_count": null,
   "id": "9a399827",
   "metadata": {},
   "outputs": [],
   "source": [
    "%%capture\n",
    "pip install country_converter"
   ]
  },
  {
   "cell_type": "code",
   "execution_count": null,
   "id": "1254e122",
   "metadata": {},
   "outputs": [],
   "source": [
    "import country_converter as coco"
   ]
  },
  {
   "cell_type": "code",
   "execution_count": null,
   "id": "969e981f",
   "metadata": {},
   "outputs": [],
   "source": [
    "iso3 = coco.convert(names=data_monde.index, to='ISO3', not_found=None)\n",
    "data_monde[\"code\"] = iso3\n",
    "data_monde.head()"
   ]
  },
  {
   "cell_type": "code",
   "execution_count": null,
   "id": "ce0946a0",
   "metadata": {},
   "outputs": [],
   "source": [
    "fig = px.choropleth(data_monde,\n",
    "                    locations=\"code\",\n",
    "                    color=\"Score de bonheur\",\n",
    "                    projection=\"orthographic\",\n",
    "                    color_continuous_scale=\"Spectral_r\",\n",
    "                    hover_name = data_monde.index,\n",
    "                    hover_data ={\"code\" : False})\n",
    "\n",
    "fig.update_geos(\n",
    "    showland=True, landcolor=\"LightGrey\",\n",
    "    showocean=True, oceancolor=\"LightBlue\",\n",
    "    showlakes=True, lakecolor=\"LightBlue\",\n",
    "    showframe = False)\n",
    "\n",
    "fig.update_layout(margin={\"r\":0,\"t\":0,\"l\":0,\"b\":0})\n",
    "fig.show()"
   ]
  },
  {
   "cell_type": "markdown",
   "id": "a7cba45c",
   "metadata": {
    "deletable": false,
    "editable": false,
    "nbgrader": {
     "cell_type": "markdown",
     "checksum": "caa4008283a5388515287f9f2fcb8e4e",
     "grade": false,
     "grade_id": "cell-f1dff028bde3dff7",
     "locked": true,
     "schema_version": 3,
     "solution": false,
     "task": false
    }
   },
   "source": [
    "On est maintenant paré pour représenter les 3 clusters obtenus par l'algo des k-moyennes du tp3b."
   ]
  },
  {
   "cell_type": "code",
   "execution_count": null,
   "id": "30879974",
   "metadata": {},
   "outputs": [],
   "source": [
    "data_monde[\"Cluster\"] = [f'n°{cluster}' for cluster in data_monde[\"Cluster\"].astype('int64') if cluster != 'nan']\n",
    "data_monde.head(1)"
   ]
  },
  {
   "cell_type": "code",
   "execution_count": null,
   "id": "2b37d261",
   "metadata": {},
   "outputs": [],
   "source": [
    "fig = px.choropleth(data_monde,\n",
    "                    locations=\"code\",\n",
    "                    color=\"Cluster\",\n",
    "                    projection=\"natural earth\",\n",
    "                    color_discrete_sequence = px.colors.qualitative.Set2,\n",
    "                    hover_name = data_monde.index,\n",
    "                    hover_data ={\"code\" : False}\n",
    "                   )\n",
    "#fig.update_geos(fitbounds=\"locations\", visible=True)\n",
    "fig.update_layout(margin={\"r\":0,\"t\":0,\"l\":0,\"b\":0})\n",
    "fig.update_geos(showframe = False)\n",
    "fig.show()"
   ]
  },
  {
   "cell_type": "markdown",
   "id": "675a3602",
   "metadata": {
    "deletable": false,
    "editable": false,
    "nbgrader": {
     "cell_type": "markdown",
     "checksum": "84534db2b87516d594ef3a472b81ecd6",
     "grade": false,
     "grade_id": "cell-56faf97bf0fe116e",
     "locked": true,
     "schema_version": 3,
     "solution": false,
     "task": false
    }
   },
   "source": [
    "Terminons en fabriquant une carte régionale."
   ]
  },
  {
   "cell_type": "code",
   "execution_count": null,
   "id": "4117cc43",
   "metadata": {},
   "outputs": [],
   "source": [
    "pd.unique(data_monde[\"Région du monde\"])"
   ]
  },
  {
   "cell_type": "code",
   "execution_count": null,
   "id": "6af5c5de",
   "metadata": {},
   "outputs": [],
   "source": [
    "region = data_monde[data_monde[\"Région du monde\"] == \"Middle East and North Africa\"]"
   ]
  },
  {
   "cell_type": "code",
   "execution_count": null,
   "id": "1df15b89",
   "metadata": {},
   "outputs": [],
   "source": [
    "fig = px.choropleth(region,\n",
    "                    locations=\"code\",\n",
    "                    color=\"Score de bonheur\",\n",
    "                    projection=\"natural earth\",\n",
    "                    color_continuous_scale=\"Temps\",\n",
    "                    hover_name = region.index,\n",
    "                    hover_data ={\"code\" : False}\n",
    "                   )\n",
    "fig.update_geos(fitbounds=\"locations\", visible=True)\n",
    "fig.update_layout(margin={\"r\":0,\"t\":0,\"l\":0,\"b\":0})\n",
    "fig.update_geos(showframe = False, resolution=50)\n",
    "fig.show()"
   ]
  },
  {
   "cell_type": "markdown",
   "id": "558ac7e6",
   "metadata": {
    "deletable": false,
    "editable": false,
    "nbgrader": {
     "cell_type": "markdown",
     "checksum": "1a6321c8ffdf7fb40fef86b2a59be624",
     "grade": false,
     "grade_id": "cell-bcad6d0f4336bf36",
     "locked": true,
     "schema_version": 3,
     "solution": false,
     "task": false
    }
   },
   "source": [
    "Modifiez les cellules qui précèdent pour que le graphique ci-dessus affiche la carte du score de générosité des pays d'Asie du sud-est."
   ]
  },
  {
   "cell_type": "code",
   "execution_count": null,
   "id": "0c95de54",
   "metadata": {
    "deletable": false,
    "editable": false,
    "nbgrader": {
     "cell_type": "code",
     "checksum": "9e2fc4db4388dea59109626288b37589",
     "grade": true,
     "grade_id": "carte",
     "locked": true,
     "points": 1,
     "schema_version": 3,
     "solution": false,
     "task": false
    }
   },
   "outputs": [],
   "source": [
    "# Cellule de vérification (ne pas modifier)"
   ]
  },
  {
   "cell_type": "markdown",
   "id": "c364ff1a",
   "metadata": {
    "deletable": false,
    "editable": false,
    "nbgrader": {
     "cell_type": "markdown",
     "checksum": "3cf580f4730aeb9e62d3cea822abda51",
     "grade": false,
     "grade_id": "cell-71967652af1510d0",
     "locked": true,
     "schema_version": 3,
     "solution": false,
     "task": false
    }
   },
   "source": [
    "De quelle couleur est le Vietnam sur cette carte ?"
   ]
  },
  {
   "cell_type": "code",
   "execution_count": null,
   "id": "9ea39975",
   "metadata": {},
   "outputs": [],
   "source": [
    "# Effacer les deux réponses fausses\n",
    "couleur = \"vert\"\n",
    "couleur = \"jaune\"\n",
    "couleur = \"orange\"\n",
    "couleur = \"rouge\""
   ]
  },
  {
   "cell_type": "code",
   "execution_count": null,
   "id": "fdc2bf2c",
   "metadata": {
    "deletable": false,
    "editable": false,
    "nbgrader": {
     "cell_type": "code",
     "checksum": "0f58e91e39bfc3a1cfb1374472728c81",
     "grade": true,
     "grade_id": "vietnam",
     "locked": true,
     "points": 1,
     "schema_version": 3,
     "solution": false,
     "task": false
    }
   },
   "outputs": [],
   "source": [
    "# Cellule de vérification (ne pas modifier)"
   ]
  }
 ],
 "metadata": {
  "kernelspec": {
   "display_name": "Python 3",
   "language": "python",
   "name": "python3"
  },
  "language_info": {
   "codemirror_mode": {
    "name": "ipython",
    "version": 3
   },
   "file_extension": ".py",
   "mimetype": "text/x-python",
   "name": "python",
   "nbconvert_exporter": "python",
   "pygments_lexer": "ipython3",
   "version": "3.8.10"
  }
 },
 "nbformat": 4,
 "nbformat_minor": 5
}
