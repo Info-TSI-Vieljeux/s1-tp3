{
 "cells": [
  {
   "cell_type": "markdown",
   "id": "0bbb5be1",
   "metadata": {},
   "source": [
    ">Ouvrir le notebook dans Colab en modifiant le début de son adresse dans le navigateur :<br>\n",
    "il faut remplacer **github.com** par **githubtocolab.com**.<br>\n",
    "Une fois vos réponses apportées, le notebook devra être sauvegardé dans GitHub, dans le repository du TP :<br>\n",
    "*Fichier > Sauvegarder une copie dans Github*<br>\n",
    "\n",
    "---"
   ]
  },
  {
   "cell_type": "markdown",
   "id": "59da6120",
   "metadata": {
    "deletable": false,
    "editable": false,
    "nbgrader": {
     "cell_type": "markdown",
     "checksum": "97abef041d3fb39976626a9bafc2168b",
     "grade": false,
     "grade_id": "cell-0a8510eb54febfec",
     "locked": true,
     "schema_version": 3,
     "solution": false,
     "task": false
    }
   },
   "source": [
    "# Un peu de géographie"
   ]
  },
  {
   "cell_type": "code",
   "execution_count": null,
   "id": "2874fac3",
   "metadata": {
    "deletable": false,
    "editable": false,
    "nbgrader": {
     "cell_type": "code",
     "checksum": "bd3b29dc4e42105963473af8005487e3",
     "grade": false,
     "grade_id": "cell-8f76c49858de4fa1",
     "locked": true,
     "schema_version": 3,
     "solution": false,
     "task": false
    }
   },
   "outputs": [],
   "source": [
    "# imports\n",
    "import pandas as pd # bibliothèques dédiée au traitement de jeux de données\n",
    "import matplotlib.pyplot as plt # bibliothèque graphique\n",
    "import seaborn as sns # bibliothèque graphique reposant sur matplotlib et dédiée plus particulièrement à la représentation de jeux de données\n",
    "\n",
    "# données\n",
    "url = \"https://raw.githubusercontent.com/Info-TSI-Vieljeux/s1-tp3/main/data_monde_classe.csv\"\n",
    "data_monde = pd.read_csv(url,index_col=0)\n",
    "data_monde.head(3)"
   ]
  },
  {
   "cell_type": "markdown",
   "id": "0470c699",
   "metadata": {},
   "source": [
    "Certains des modules utiles n'étant pas présent dans Colabotary, il faut les installer :"
   ]
  },
  {
   "cell_type": "code",
   "execution_count": null,
   "id": "bb738c4f",
   "metadata": {},
   "outputs": [],
   "source": [
    "# Installations utiles à Geopandas\n",
    "!apt install gdal-bin python-gdal python3-gdal \n",
    "!apt install python3-rtree \n",
    "# Geopandas (permet de traiter les données géographiques dans une dataframe pandas)\n",
    "!pip install -q git+git://github.com/geopandas/geopandas.git\n",
    "# Autres packages nécessaires à Geopandas\n",
    "!pip install -q contextily\n",
    "!pip install -q mapclassify"
   ]
  },
  {
   "cell_type": "code",
   "execution_count": null,
   "id": "b06f486d",
   "metadata": {},
   "outputs": [],
   "source": [
    "import contextily as cx\n",
    "import mapclassify\n",
    "import geopandas as gpd"
   ]
  },
  {
   "cell_type": "markdown",
   "id": "1921d542",
   "metadata": {},
   "source": [
    "On récupère un jeu de données géométrico-géographique comprenant la forme de chaque pays (ensemble de points dessinant un polygone) pour pouvoir construire une carte."
   ]
  },
  {
   "cell_type": "code",
   "execution_count": null,
   "id": "ea66ea55",
   "metadata": {},
   "outputs": [],
   "source": [
    "url = \"http://opendata.arcgis.com/datasets/a21fdb46d23e4ef896f31475217cbb08_1.geojson\"\n",
    "localisation = gpd.read_file(url)\n",
    "localisation.head(3)"
   ]
  },
  {
   "cell_type": "markdown",
   "id": "02f2bde4",
   "metadata": {},
   "source": [
    "La colonne \"geometry\" contient le tracé des pays.<br>\n",
    "On joint les formes géométriques à notre jeu de données originel."
   ]
  },
  {
   "cell_type": "code",
   "execution_count": null,
   "id": "ddd7f142",
   "metadata": {},
   "outputs": [],
   "source": [
    "data_geoloc = localisation.set_index('CNTRY_NAME').join(data_monde)\n",
    "data_geoloc.head(3)"
   ]
  },
  {
   "cell_type": "markdown",
   "id": "e2854354",
   "metadata": {},
   "source": [
    "On retire l'Antartique et on choisit une formule de projection pour représenter la carte (le WGS 84 des GPS ici)."
   ]
  },
  {
   "cell_type": "code",
   "execution_count": null,
   "id": "2e43758f",
   "metadata": {},
   "outputs": [],
   "source": [
    "monde = data_geoloc.to_crs(\"+proj=robin\")\n",
    "monde = monde[monde.index != \"Antarctica\"]\n",
    "monde = monde[monde.index != \"Greenland\"]"
   ]
  },
  {
   "cell_type": "code",
   "execution_count": null,
   "id": "35c99b84",
   "metadata": {},
   "outputs": [],
   "source": [
    "ax = monde.plot(figsize = (30,10), alpha=0.8, column = \"Score de bonheur\", cmap = \"viridis\", legend=True, legend_kwds={\"label\":\"Score de bonheur\"},missing_kwds={'color': 'lightgrey'})\n",
    "ax.axis('off')"
   ]
  },
  {
   "cell_type": "markdown",
   "id": "a7cba45c",
   "metadata": {},
   "source": [
    "On est maintenant paré pour représenter les 3 clusters obtenus par l'algo des k-moyennes du TP3b."
   ]
  },
  {
   "cell_type": "code",
   "execution_count": null,
   "id": "5dba86d7",
   "metadata": {},
   "outputs": [],
   "source": [
    "monde[\"Cluster\"]=monde[\"Cluster\"].astype('Int64')\n",
    "ax = monde.plot(figsize = (30,10), alpha=0.8, column = \"Cluster\", cmap = \"viridis\", legend=True, missing_kwds={'color': 'lightgrey'},categorical=True)\n",
    "ax.axis('off')"
   ]
  },
  {
   "cell_type": "markdown",
   "id": "675a3602",
   "metadata": {},
   "source": [
    "Fabriquons une carte régionale en ne sélectionnant que certaines régions du monde."
   ]
  },
  {
   "cell_type": "code",
   "execution_count": null,
   "id": "6af5c5de",
   "metadata": {},
   "outputs": [],
   "source": [
    "region = data_geoloc[data_geoloc[\"Région du monde\"].isin([\"Western Europe\",\"Central and Eastern Europe\",\"Middle East and North Africa\"])]\n",
    "region = region.to_crs(epsg=3857) # utilise des mètres à la place des degrés\n",
    "palette = sns.diverging_palette(150, 275, n=20, as_cmap=True) # dégradé pour remplacer 'viridis'"
   ]
  },
  {
   "cell_type": "code",
   "execution_count": null,
   "id": "709b53d7",
   "metadata": {},
   "outputs": [],
   "source": [
    "ax = region.plot(figsize = (20,20),alpha=0.8,column = \"Score de bonheur\", cmap=palette, edgecolor='w', legend=True, legend_kwds={\"label\":\"Score de bonheur\",'shrink': 0.6})\n",
    "cx.add_basemap(ax, url=cx.providers.Stamen.Watercolor) # parcequ'on peut...\n",
    "ax.axis('off')"
   ]
  },
  {
   "cell_type": "markdown",
   "id": "558ac7e6",
   "metadata": {
    "deletable": false,
    "editable": false,
    "nbgrader": {
     "cell_type": "markdown",
     "checksum": "62be83a4ee89458bdf40a138780259a8",
     "grade": false,
     "grade_id": "cell-bcad6d0f4336bf36",
     "locked": true,
     "schema_version": 3,
     "solution": false,
     "task": false
    }
   },
   "source": [
    "Modifier les cellules qui précèdent pour que le graphique ci-dessus affiche la carte du PIB par habitant des pays d'Asie du sud."
   ]
  },
  {
   "cell_type": "code",
   "execution_count": null,
   "id": "0c95de54",
   "metadata": {
    "deletable": false,
    "editable": false,
    "nbgrader": {
     "cell_type": "code",
     "checksum": "9e2fc4db4388dea59109626288b37589",
     "grade": true,
     "grade_id": "carte",
     "locked": true,
     "points": 1,
     "schema_version": 3,
     "solution": false,
     "task": false
    }
   },
   "outputs": [],
   "source": [
    "# Cellule de vérification (ne pas modifier)"
   ]
  },
  {
   "cell_type": "markdown",
   "id": "c364ff1a",
   "metadata": {
    "deletable": false,
    "editable": false,
    "nbgrader": {
     "cell_type": "markdown",
     "checksum": "3cf580f4730aeb9e62d3cea822abda51",
     "grade": false,
     "grade_id": "cell-71967652af1510d0",
     "locked": true,
     "schema_version": 3,
     "solution": false,
     "task": false
    }
   },
   "source": [
    "De quelle couleur est le Vietnam sur cette carte ?"
   ]
  },
  {
   "cell_type": "code",
   "execution_count": null,
   "id": "9ea39975",
   "metadata": {},
   "outputs": [],
   "source": [
    "# Effacer les deux réponses fausses\n",
    "couleur1 = \"vert\"\n",
    "couleur1 = \"rose\"\n",
    "couleur1 = \"violet\""
   ]
  },
  {
   "cell_type": "code",
   "execution_count": null,
   "id": "fdc2bf2c",
   "metadata": {
    "deletable": false,
    "editable": false,
    "nbgrader": {
     "cell_type": "code",
     "checksum": "074b19039269cb6ece4f63bcbf3af191",
     "grade": true,
     "grade_id": "vietnam",
     "locked": true,
     "points": 0,
     "schema_version": 3,
     "solution": false,
     "task": false
    }
   },
   "outputs": [],
   "source": [
    "# Cellule de vérification (ne pas modifier)"
   ]
  },
  {
   "cell_type": "markdown",
   "id": "6c526abc",
   "metadata": {},
   "source": [
    "On peut aussi jouer avec des cartes interactives."
   ]
  },
  {
   "cell_type": "code",
   "execution_count": null,
   "id": "9393f568",
   "metadata": {
    "deletable": false,
    "editable": false,
    "nbgrader": {
     "cell_type": "code",
     "checksum": "6675ff2cf788ef28fe7a3d4d3f477741",
     "grade": false,
     "grade_id": "cell-b3eaeaac36347f41",
     "locked": true,
     "schema_version": 3,
     "solution": false,
     "task": false
    }
   },
   "outputs": [],
   "source": [
    "import folium"
   ]
  },
  {
   "cell_type": "code",
   "execution_count": null,
   "id": "7bcfdd32",
   "metadata": {},
   "outputs": [],
   "source": [
    "monde = data_geoloc.to_crs(epsg=4326)\n",
    "mondo = monde.dissolve(by='CNTRY_NAME').reset_index()\n",
    "tuile = 'https://server.arcgisonline.com/ArcGIS/rest/services/Ocean_Basemap/MapServer/tile/{z}/{y}/{x}'"
   ]
  },
  {
   "cell_type": "code",
   "execution_count": null,
   "id": "c2e8ef5e",
   "metadata": {},
   "outputs": [],
   "source": [
    "carte = folium.Map(location=[46, -1],\n",
    "               tiles=tuile,\n",
    "               attr='Tiles &copy; Esri &mdash; Sources: GEBCO, NOAA, CHS, OSU, UNH, CSUMB, National Geographic, DeLorme, NAVTEQ, and Esri',\n",
    "               min_zoom=2, \n",
    "               max_zoom=6, \n",
    "               zoom_start=4)\n",
    "\n",
    "folium.Choropleth(mondo,                                \n",
    "                  data=mondo,                           \n",
    "                  key_on='feature.properties.CNTRY_NAME', \n",
    "                  columns=['CNTRY_NAME', 'Générosité'],  \n",
    "                  fill_color='PiYG_r',\n",
    "                  bins=11,\n",
    "                  nan_fill_color='lightgrey',\n",
    "                  line_weight=0.1,                       \n",
    "                  line_opacity=0.5,                     \n",
    "                  legend_name='Score de bonheur').add_to(carte) \n",
    "\n",
    "carte"
   ]
  },
  {
   "cell_type": "markdown",
   "id": "9f045b3a",
   "metadata": {
    "deletable": false,
    "editable": false,
    "nbgrader": {
     "cell_type": "markdown",
     "checksum": "64157eee25d98e54357eb8b6f6910570",
     "grade": false,
     "grade_id": "cell-406af7e5bcd5290a",
     "locked": true,
     "schema_version": 3,
     "solution": false,
     "task": false
    }
   },
   "source": [
    "Modifiez la carte précédente pour qu'elle fasse apparaître le score de générosité.<br> \n",
    "De quelle couleur apparaît le Kénya sur cette nouvelle carte ?"
   ]
  },
  {
   "cell_type": "code",
   "execution_count": null,
   "id": "6c738c26",
   "metadata": {},
   "outputs": [],
   "source": [
    "# Effacer les deux réponses fausses\n",
    "couleur2 = \"vert\"\n",
    "couleur2 = \"rose\"\n",
    "couleur2 = \"violet\""
   ]
  },
  {
   "cell_type": "code",
   "execution_count": null,
   "id": "52b1bf02",
   "metadata": {
    "deletable": false,
    "editable": false,
    "nbgrader": {
     "cell_type": "code",
     "checksum": "e390bcd5ba29b5112e7256da4a1883a5",
     "grade": true,
     "grade_id": "generous",
     "locked": true,
     "points": 1,
     "schema_version": 3,
     "solution": false,
     "task": false
    }
   },
   "outputs": [],
   "source": [
    "# Cellule de vérification (ne pas modifier)"
   ]
  }
 ],
 "metadata": {
  "kernelspec": {
   "display_name": "Python 3",
   "language": "python",
   "name": "python3"
  },
  "language_info": {
   "codemirror_mode": {
    "name": "ipython",
    "version": 3
   },
   "file_extension": ".py",
   "mimetype": "text/x-python",
   "name": "python",
   "nbconvert_exporter": "python",
   "pygments_lexer": "ipython3",
   "version": "3.8.2"
  }
 },
 "nbformat": 4,
 "nbformat_minor": 5
}
