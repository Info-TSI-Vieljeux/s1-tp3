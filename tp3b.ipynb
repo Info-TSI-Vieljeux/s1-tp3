{
 "cells": [
  {
   "cell_type": "markdown",
   "id": "e59d97e4",
   "metadata": {},
   "source": [
    ">Ouvrir le notebook dans Colab en modifiant le début de son adresse dans le navigateur :<br>\n",
    "il faut remplacer **github.com** par **githubtocolab.com**.<br>\n",
    "Une fois vos réponses apportées, le notebook devra être sauvegardé dans GitHub, dans le repository du TP :<br>\n",
    "*Fichier > Sauvegarder une copie dans Github*<br>\n",
    "\n",
    "---"
   ]
  },
  {
   "cell_type": "markdown",
   "id": "1a8ead7a",
   "metadata": {},
   "source": [
    "# Un chouïa d'apprentissage automatique (machine learning)"
   ]
  },
  {
   "cell_type": "markdown",
   "id": "cc7075f8",
   "metadata": {},
   "source": [
    "On récupère les données telles qu'on les a laissées à la fin du notebook `TP3a`."
   ]
  },
  {
   "cell_type": "code",
   "execution_count": null,
   "id": "6bf25a72",
   "metadata": {},
   "outputs": [],
   "source": [
    "# imports\n",
    "import pandas as pd # bibliothèques dédiée au traitement de jeux de données\n",
    "import matplotlib.pyplot as plt # bibliothèque graphique\n",
    "import seaborn as sns # bibliothèque graphique reposant sur matplotlib et dédiée plus particulièrement à la représentation de jeux de données\n",
    "import numpy as np # bibliothèque puissante permettant de gérer des tableaux multidimensionnels\n",
    "import plotly.express as px # libraire permettant des graphes interactifs\n",
    "import plotly.graph_objects as go # complémentaire à la première\n",
    "\n",
    "# paramètres par défaut pour le graphes\n",
    "plt.rcParams['figure.figsize'] = (15, 6)\n",
    "plt.rcParams['font.family'] = \"serif\"\n",
    "plt.rcParams['font.size'] = 13\n",
    "sns.set_style(\"white\")\n",
    "\n",
    "# données\n",
    "url = \"https://raw.githubusercontent.com/Info-TSI-Vieljeux/s1-tp3/main/data_monde_groupe.csv\"\n",
    "data_monde = pd.read_csv(url,index_col=0)\n",
    "data_monde.head(3)"
   ]
  },
  {
   "cell_type": "markdown",
   "id": "c3b99732",
   "metadata": {},
   "source": [
    "On a vu qu'un regroupement des données en 3 grands groupes \"Nord\", \"Sud\" et \"Intermédiaire\" semble plutôt cohérent.<br>\n",
    "Mais pourquoi pas laisser un algorithme décider lui-même de qui va le mieux ensemble ? Ensuite nous pourrons vérifier si cela recoupe notre découpage fait à la main.<br>\n",
    "On appelle cela un **apprentissage non supervisé**."
   ]
  },
  {
   "cell_type": "markdown",
   "id": "0fbd05ed",
   "metadata": {},
   "source": [
    "Nous allons utiliser l'algorithme des **k-moyennes** pour partitionner automatiquement nos données.<br>\n",
    "Il consiste à placer chaque point de données dans un espace à $n$ dimensions où $n$ est le nombre de variables (les descripteurs) et chercher à les regrouper en **clusters** en fonction de leurs distances.<br>\n",
    "Chaque variable correspondant à un axe du repère. "
   ]
  },
  {
   "cell_type": "markdown",
   "id": "e11e5b3a",
   "metadata": {},
   "source": [
    "Pour aider l'algorithme, on peut tenter de réduire la dimension de l'espace dans lequel chaque point de données est plongé en utilisant une **analyse en composantes principales**.<br>\n",
    "L'idée est de déterminer les combinaisons des différentes variables expliquant le mieux la variance des données. Chaque nouvel axe ainsi formé (les composantes principales) explique une part décroissante mais complémentaire de la variance (sur la deuxième composante, les données sont moins étalées que sur la première, mais elles s'étalent dans une direction orthogonale, et ainsi de suite).<br>\n",
    "Projeter les données sur les premières composantes permet d'éclater le plus possible les données. On peut ainsi réduire l'espace à *n* dimensions du départ à un espace de seulement 2 ou 3 dimensions expliquant la majorité de la variance des données."
   ]
  },
  {
   "cell_type": "markdown",
   "id": "097bad04",
   "metadata": {},
   "source": [
    "La bibliothèque `Scikit-learn`, destinée à l'apprentissage automatique, contient tout ce qu'il nous faut :"
   ]
  },
  {
   "cell_type": "code",
   "execution_count": null,
   "id": "e0a22896",
   "metadata": {},
   "outputs": [],
   "source": [
    "from sklearn.decomposition import PCA # l'algorithme d'analyse en composantes principales (PCA en anglais)\n",
    "from sklearn.preprocessing import StandardScaler # pour centrer-réduire les données\n",
    "from sklearn.cluster import KMeans # l'algorithme des k-moyennes"
   ]
  },
  {
   "cell_type": "code",
   "execution_count": null,
   "id": "f946fa4f",
   "metadata": {},
   "outputs": [],
   "source": [
    "variables = data_monde.columns.values[1:-1]\n",
    "scaler = StandardScaler()\n",
    "X = scaler.fit_transform(data_monde[variables]) \n",
    "# chaque vecteur correspondant à chacune des variables est maintenant centré-réduit\n",
    "pca = PCA()\n",
    "components = pca.fit_transform(X)"
   ]
  },
  {
   "cell_type": "markdown",
   "id": "6adb4ddd",
   "metadata": {},
   "source": [
    "Quelle combinaison des variables de départ utilise la première composante ?"
   ]
  },
  {
   "cell_type": "code",
   "execution_count": null,
   "id": "96ed69b0",
   "metadata": {},
   "outputs": [],
   "source": [
    "data = data_monde.copy() # pour pouvoir revenir sur le graphe suivant même après ajout de colonnes à data_monde"
   ]
  },
  {
   "cell_type": "code",
   "execution_count": null,
   "id": "b8cbb432",
   "metadata": {},
   "outputs": [],
   "source": [
    "n_c = 1 # numéro de la composante principale à décrire\n",
    "px.bar(components.T, x=data.columns.values[1:-1], y=n_c-1, labels={f\"{n_c-1}\": f\"Composante Principale (CP) {n_c}\"})"
   ]
  },
  {
   "cell_type": "markdown",
   "id": "08b22ac0",
   "metadata": {
    "deletable": false,
    "editable": false,
    "nbgrader": {
     "cell_type": "markdown",
     "checksum": "ef8eab0edb1b56a59f081833545d0a04",
     "grade": false,
     "grade_id": "cell-5e185b4f0928adb3",
     "locked": true,
     "schema_version": 3,
     "solution": false,
     "task": false
    }
   },
   "source": [
    "Quelle est le nom de la variable participant le plus à la composante principale n°34 ?"
   ]
  },
  {
   "cell_type": "code",
   "execution_count": null,
   "id": "9f1ea9f1",
   "metadata": {},
   "outputs": [],
   "source": [
    "# noter son nom tel qu'il apparaît dans les données\n",
    "variable = \"nom\""
   ]
  },
  {
   "cell_type": "code",
   "execution_count": null,
   "id": "953b0c1f",
   "metadata": {
    "deletable": false,
    "editable": false,
    "nbgrader": {
     "cell_type": "code",
     "checksum": "3c0ab41b3c52a818477942ba29406fc2",
     "grade": true,
     "grade_id": "cell-44e4389dff4af8a6",
     "locked": true,
     "points": 0,
     "schema_version": 3,
     "solution": false,
     "task": false
    }
   },
   "outputs": [],
   "source": [
    "# Cellule de vérification (ne pas modifier)"
   ]
  },
  {
   "cell_type": "markdown",
   "id": "c7c0098b",
   "metadata": {
    "deletable": false,
    "editable": false,
    "nbgrader": {
     "cell_type": "markdown",
     "checksum": "cb245e59bd81deeb9f67833ca00baa0c",
     "grade": false,
     "grade_id": "cell-e974796fc6403b3f",
     "locked": true,
     "schema_version": 3,
     "solution": false,
     "task": false
    }
   },
   "source": [
    "Représentons le pourcentage de variance expliqué par chacune des composantes :"
   ]
  },
  {
   "cell_type": "code",
   "execution_count": null,
   "id": "7e2eba9c",
   "metadata": {},
   "outputs": [],
   "source": [
    "exp_var_cumul = np.cumsum(pca.explained_variance_ratio_)\n",
    "fig = px.bar(x=range(1, exp_var_cumul.shape[0] + 1),y=pca.explained_variance_ratio_,labels={\"x\": \"composante\", \"y\": \"% variance expliquée\"})\n",
    "fig.add_scatter(x=list(range(1, exp_var_cumul.shape[0] + 1)), y=exp_var_cumul, name=\"\", showlegend=False)"
   ]
  },
  {
   "cell_type": "markdown",
   "id": "64ddd341",
   "metadata": {},
   "source": [
    "Les trois premières composantes expliquent presque 90% de la variance !<br>\n",
    "Plaçons les données dans un espace réduit à ces 3 dimensions :"
   ]
  },
  {
   "cell_type": "code",
   "execution_count": null,
   "id": "a4a0ecaa",
   "metadata": {},
   "outputs": [],
   "source": [
    "px.scatter_3d(components, x=0, y=1, z=2, \n",
    "              color=data_monde['Groupe'],\n",
    "              labels={'0': 'CP 1', '1': 'CP 2', '2': 'CP 3'},\n",
    "              hover_name=data_monde.index)"
   ]
  },
  {
   "cell_type": "markdown",
   "id": "a427f1d1",
   "metadata": {},
   "source": [
    "On constate à nouveau que nos 3 groupes discriminent plutôt très bien nos données même si quelques chevauchements existent.<br>\n",
    "C'est le moment d'utiliser l'algorithme des k-moyennes pour essayer de former 3 groupes homogènes :"
   ]
  },
  {
   "cell_type": "code",
   "execution_count": null,
   "id": "cca24303",
   "metadata": {},
   "outputs": [],
   "source": [
    "# on ne garde qe les 3 premières composantes principales\n",
    "pca = PCA(n_components = 3)\n",
    "pca.fit(X)\n",
    "score_pca = pca.transform(X)\n",
    "kmeans_pca = KMeans(n_clusters=3,init='k-means++',random_state=42)\n",
    "kmeans_pca.fit(score_pca)\n",
    "data_monde[\"Cluster\"]=kmeans_pca.labels_.astype(str)\n",
    "data_monde.head(3)"
   ]
  },
  {
   "cell_type": "code",
   "execution_count": null,
   "id": "3c205f4b",
   "metadata": {},
   "outputs": [],
   "source": [
    "fig = px.scatter_3d(components, x=0, y=1, z=2, \n",
    "              color=data_monde['Cluster'],\n",
    "              labels={'0': 'CP 1', '1': 'CP 2', '2': 'CP 3'},\n",
    "              color_discrete_sequence=px.colors.qualitative.Bold,\n",
    "              hover_name=data_monde.index)\n",
    "fig.update_layout(legend_title = \"Cluster\")"
   ]
  },
  {
   "cell_type": "markdown",
   "id": "0ea139dd",
   "metadata": {
    "deletable": false,
    "editable": false,
    "nbgrader": {
     "cell_type": "markdown",
     "checksum": "e399cb430cf25178493dd2b0e9e7d0a8",
     "grade": false,
     "grade_id": "cell-9f039bf14dfdbc86",
     "locked": true,
     "schema_version": 3,
     "solution": false,
     "task": false
    }
   },
   "source": [
    "Les 3 clusters créés reproduisent à peu de chose près les 3 groupes \"Nord\", \"Sud\", \"Intermédiaire\" construits à la main.<br>\n",
    "À quel cluster correspondent approximativement les pays du groupe \"Nord\" ?"
   ]
  },
  {
   "cell_type": "code",
   "execution_count": null,
   "id": "655cd9e8",
   "metadata": {},
   "outputs": [],
   "source": [
    "# noter le numéro entre les guillements\n",
    "cluster = \"...\""
   ]
  },
  {
   "cell_type": "code",
   "execution_count": null,
   "id": "da0d4e43",
   "metadata": {
    "deletable": false,
    "editable": false,
    "nbgrader": {
     "cell_type": "code",
     "checksum": "4f3f5b4ddafef71eb48463110bd69172",
     "grade": true,
     "grade_id": "cluster",
     "locked": true,
     "points": 1,
     "schema_version": 3,
     "solution": false,
     "task": false
    }
   },
   "outputs": [],
   "source": [
    "# Cellule de vérification (ne pas modifier)"
   ]
  },
  {
   "cell_type": "markdown",
   "id": "980e82fb",
   "metadata": {
    "deletable": false,
    "editable": false,
    "nbgrader": {
     "cell_type": "markdown",
     "checksum": "2f847352df3c1f1f4e86f4b5657346fe",
     "grade": false,
     "grade_id": "cell-bceada424ed6aab0",
     "locked": true,
     "schema_version": 3,
     "solution": false,
     "task": false
    }
   },
   "source": [
    "Mais l'accord n'est pas parfait !<br> \n",
    "Citer un pays qui appartient au groupe \"Nord\" mais qui n'appartient pas au cluster lui correspondant."
   ]
  },
  {
   "cell_type": "code",
   "execution_count": null,
   "id": "64a4a92a",
   "metadata": {},
   "outputs": [],
   "source": [
    "# noter le nom tel qu'il est écrit dans les données\n",
    "nom_du_pays = \"Pays\""
   ]
  },
  {
   "cell_type": "code",
   "execution_count": null,
   "id": "1c816d1b",
   "metadata": {
    "deletable": false,
    "editable": false,
    "nbgrader": {
     "cell_type": "code",
     "checksum": "06df60dd422c07deed5546fc03810113",
     "grade": true,
     "grade_id": "pasnord",
     "locked": true,
     "points": 1,
     "schema_version": 3,
     "solution": false,
     "task": false
    }
   },
   "outputs": [],
   "source": [
    "# Cellule de vérification (ne pas modifier)"
   ]
  },
  {
   "cell_type": "markdown",
   "id": "335e1243",
   "metadata": {},
   "source": [
    "Nous allons voir dans la dernière partie du TP comment représenter ces données sur une carte pour y voir plus clair."
   ]
  },
  {
   "cell_type": "code",
   "execution_count": null,
   "id": "6261d1ad",
   "metadata": {},
   "outputs": [],
   "source": [
    "data_monde.to_csv('data_monde_classe.csv')"
   ]
  },
  {
   "cell_type": "code",
   "execution_count": null,
   "id": "90919911",
   "metadata": {},
   "outputs": [],
   "source": []
  }
 ],
 "metadata": {
  "kernelspec": {
   "display_name": "Python 3",
   "language": "python",
   "name": "python3"
  },
  "language_info": {
   "codemirror_mode": {
    "name": "ipython",
    "version": 3
   },
   "file_extension": ".py",
   "mimetype": "text/x-python",
   "name": "python",
   "nbconvert_exporter": "python",
   "pygments_lexer": "ipython3",
   "version": "3.8.2"
  }
 },
 "nbformat": 4,
 "nbformat_minor": 5
}
