{
 "cells": [
  {
   "cell_type": "markdown",
   "id": "3c0fc930",
   "metadata": {},
   "source": [
    ">Ouvrir le notebook dans Colab en modifiant le début de son adresse dans le navigateur :<br>\n",
    "il faut remplacer **github.com** par **githubtocolab.com**.<br>\n",
    "Une fois vos réponses apportées, le notebook devra être sauvegardé dans GitHub, dans le repository du TP :<br>\n",
    "*Fichier > Enregistrer une copie dans Github*<br>\n",
    "*Info-TSI-Vieljeux/tpx-votre_nom*<br>\n",
    "\n",
    "---"
   ]
  },
  {
   "cell_type": "markdown",
   "id": "99ad7d8b",
   "metadata": {
    "deletable": false,
    "editable": false,
    "nbgrader": {
     "cell_type": "markdown",
     "checksum": "c49bdd94238d88141faa307ab9046fd4",
     "grade": false,
     "grade_id": "cell-87b731c729cffdf9",
     "locked": true,
     "schema_version": 3,
     "solution": false,
     "task": false
    }
   },
   "source": [
    "# Utilisation de modules, de bibliothèques"
   ]
  },
  {
   "cell_type": "markdown",
   "id": "4b78395c",
   "metadata": {},
   "source": [
    "L'idée de ce TP est de constater combien des modules/bibliothèques adaptés peuvent fournir des outils puissants et permettre un gain de temps gigantesque.<br>\n",
    "On va se placer dans un des champs les plus porteurs de la science informatique actuelle, l'analyse de données, pour constater comment l'utilisation de modules adaptés peut simplifier le travail."
   ]
  },
  {
   "cell_type": "markdown",
   "id": "2d0e0d65",
   "metadata": {
    "deletable": false,
    "editable": false,
    "nbgrader": {
     "cell_type": "markdown",
     "checksum": "7672b7ef75495ac12232f57351bfd3c1",
     "grade": false,
     "grade_id": "cell-99844ebed31c5f1e",
     "locked": true,
     "schema_version": 3,
     "solution": false,
     "task": false
    }
   },
   "source": [
    "## Exploration d'un jeu de données"
   ]
  },
  {
   "cell_type": "markdown",
   "id": "535b2672",
   "metadata": {
    "deletable": false,
    "editable": false,
    "nbgrader": {
     "cell_type": "markdown",
     "checksum": "e441efc943cd73ac9c7c56597ac92b7c",
     "grade": false,
     "grade_id": "cell-d5222a0f79f4dea8",
     "locked": true,
     "schema_version": 3,
     "solution": false,
     "task": false
    }
   },
   "source": [
    "### Statistiques simples"
   ]
  },
  {
   "cell_type": "markdown",
   "id": "4511fc25",
   "metadata": {
    "deletable": false,
    "editable": false,
    "nbgrader": {
     "cell_type": "markdown",
     "checksum": "5ecfedf6d84ade1ca3a29464571d283d",
     "grade": false,
     "grade_id": "cell-663aeb5cee974947",
     "locked": true,
     "schema_version": 3,
     "solution": false,
     "task": false
    }
   },
   "source": [
    "Commençons par importer les bibliothèques qui nous seront nécessaires :"
   ]
  },
  {
   "cell_type": "code",
   "execution_count": null,
   "id": "b3a7cc61",
   "metadata": {
    "deletable": false,
    "editable": false,
    "nbgrader": {
     "cell_type": "code",
     "checksum": "2795c3ce53ae8afe73d081d2946c412d",
     "grade": false,
     "grade_id": "cell-c30816526da85c7d",
     "locked": true,
     "schema_version": 3,
     "solution": false,
     "task": false
    }
   },
   "outputs": [],
   "source": [
    "import pandas as pd # bibliothèques dédiée au traitement de jeux de données\n",
    "import matplotlib.pyplot as plt # bibliothèque graphique\n",
    "import seaborn as sns # bibliothèque graphique reposant sur matplotlib et dédiée plus particulièrement à la représentation de jeux de données\n",
    "import numpy as np # bibliothèque puissante permettant de gérer des tableaux multidimensionnels\n",
    "import plotly.express as px # libraire permettant des graphes interactifs"
   ]
  },
  {
   "cell_type": "markdown",
   "id": "0e7915ff",
   "metadata": {},
   "source": [
    "Pour pouvoir être importé, un module doit avoir été préalablement installé. Les plus importants sont installés par défaut dans certaines distributions (comme Anaconda).<br>\n",
    "Les gros modules sont généralement importés sous la forme `import module as x` où `x` est un raccourci pour le nom du module (`np` pour `numpy` ou `plt` pour `matplotlib.pyplot`). Se référer au cours Python pour les autres formes d'importation.<br>\n",
    "Pour obtenir de l'aide sur un module, on peut demander à Python (`help(pd)` par exemple pour avoir de l'aide sur pandas ou `help(pd.read_csv)` pour avoir de l'aide sur la fonction spécifique `read_csv`), mais il y a généralement beaucoup moins indigeste : l'aide en ligne des modules ([https://pandas.pydata.org/docs/user_guide/index.html](https://pandas.pydata.org/docs/user_guide/index.html) pour Pandas par exemple)."
   ]
  },
  {
   "cell_type": "code",
   "execution_count": null,
   "id": "4d487d8c",
   "metadata": {
    "deletable": false,
    "editable": false,
    "nbgrader": {
     "cell_type": "code",
     "checksum": "b3458e66f732caea3095bafd59da4645",
     "grade": false,
     "grade_id": "cell-764b68ee83ae579c",
     "locked": true,
     "schema_version": 3,
     "solution": false,
     "task": false
    }
   },
   "outputs": [],
   "source": [
    "# paramètres par défaut pour les graphes\n",
    "plt.rcParams['figure.figsize'] = (15, 6)\n",
    "plt.rcParams['font.family'] = \"serif\"\n",
    "plt.rcParams['font.size'] = 13\n",
    "sns.set_style(\"white\")"
   ]
  },
  {
   "cell_type": "markdown",
   "id": "9243c3ee",
   "metadata": {
    "deletable": false,
    "editable": false,
    "nbgrader": {
     "cell_type": "markdown",
     "checksum": "b30729151478a6eb117537dee2ef52a0",
     "grade": false,
     "grade_id": "cell-a30bc3564d1586d2",
     "locked": true,
     "schema_version": 3,
     "solution": false,
     "task": false
    }
   },
   "source": [
    "Le premier jeu de données qu'on va utiliser est issu du [World Happiness report](https://worldhappiness.report) (une publication annuelle de l'ONU mesurant le degrés de bonheur de la population mondiale par pays à partir de sondages)."
   ]
  },
  {
   "cell_type": "code",
   "execution_count": null,
   "id": "23d55d24",
   "metadata": {
    "deletable": false,
    "editable": false,
    "nbgrader": {
     "cell_type": "code",
     "checksum": "1f6998e0c256a89c4dd233d6648c6305",
     "grade": false,
     "grade_id": "cell-9b4ebc5c4f01c4b4",
     "locked": true,
     "schema_version": 3,
     "solution": false,
     "task": false
    }
   },
   "outputs": [],
   "source": [
    "url = \"https://raw.githubusercontent.com/Info-TSI-Vieljeux/s1-tp3/main/2020.csv\"\n",
    "data_monde = pd.read_csv(url,sep=\";\",index_col=0) # data_monde est une dataframe Pandas\n",
    "# Une dataframe est une sorte de dictionnaire dont les clés sont les en-têtes des colonnes et dont les lignes sont indexées."
   ]
  },
  {
   "cell_type": "code",
   "execution_count": null,
   "id": "f4a21f76",
   "metadata": {
    "deletable": false,
    "editable": false,
    "nbgrader": {
     "cell_type": "code",
     "checksum": "6930ac178946dbe9791395fc8a1ad22d",
     "grade": false,
     "grade_id": "cell-bd657abeb7521953",
     "locked": true,
     "schema_version": 3,
     "solution": false,
     "task": false
    }
   },
   "outputs": [],
   "source": [
    "data_monde"
   ]
  },
  {
   "cell_type": "markdown",
   "id": "aa7c9350",
   "metadata": {
    "deletable": false,
    "editable": false,
    "nbgrader": {
     "cell_type": "markdown",
     "checksum": "e2aaeb679ef1a17b237070197481681a",
     "grade": false,
     "grade_id": "cell-57ca01f488494ff5",
     "locked": true,
     "schema_version": 3,
     "solution": false,
     "task": false
    }
   },
   "source": [
    "Précisions sur ces données :\n",
    "- le score de bonheur est un score sur 10 correspondant à la moyenne des réponses des sondés (0 correspond à la pire vie possible et 10 à la meilleure)\n",
    "- ce n'est pas le PIB par habitant mais son logarithme qui est utilisé pour ne pas avoir des valeurs sur des ordres de grandeur trop différents d'une colonne à l'autre\n",
    "- entraide sociale : moyenne des réponses à la question binaire \"en cas de difficultés, pouvez-vous compter sur de la famille ou des amis pour vous aider ?\" (0 : non, 1 : oui)\n",
    "- liberté des choix de vie : moyenne des réponses à la question binaire \"êtes-vous satisfait ou non de votre liberté à choisir ce que vous voulez faire de votre vie ?\" (0 : non, 1 : oui)\n",
    "- générosité : moyenne des réponses à \"Avez-vous donné à une association caritative le mois dernier ?\" ajustée par rapport au PIB par habitant (valeur résiduelle)\n",
    "- corruption perçue : moyenne des réponses à la question binaire \"la corruption est-elle répandue dans le gouvernement ?\" (0 : non, 1 : oui)"
   ]
  },
  {
   "cell_type": "markdown",
   "id": "aeadf8bf",
   "metadata": {
    "deletable": false,
    "editable": false,
    "nbgrader": {
     "cell_type": "markdown",
     "checksum": "6e046b66d6edf12afd91a0a454d7c69d",
     "grade": false,
     "grade_id": "cell-fb6151c04bd1f61d",
     "locked": true,
     "schema_version": 3,
     "solution": false,
     "task": false
    }
   },
   "source": [
    "On simplifie un peu le jeu de données en retirant la colonne 'Déviation standard' et 'Score de bonheur en distopie' (score minimal obtenu)."
   ]
  },
  {
   "cell_type": "code",
   "execution_count": null,
   "id": "83c32433",
   "metadata": {
    "deletable": false,
    "editable": false,
    "nbgrader": {
     "cell_type": "code",
     "checksum": "5f13ff3e1aa274d2018f140dd1586530",
     "grade": false,
     "grade_id": "cell-3172117e2382136b",
     "locked": true,
     "schema_version": 3,
     "solution": false,
     "task": false
    }
   },
   "outputs": [],
   "source": [
    "data_monde.drop(columns=['déviation standard','Score de bonheur en Distopie'], inplace=True)\n",
    "data_monde.head(3)"
   ]
  },
  {
   "cell_type": "code",
   "execution_count": null,
   "id": "8fd8f844",
   "metadata": {},
   "outputs": [],
   "source": [
    "data_monde.tail(3)"
   ]
  },
  {
   "cell_type": "markdown",
   "id": "cde08da8",
   "metadata": {},
   "source": [
    "Traçons un histogramme brut du jeu de données complet pour y voir plus clair (la librairie Seaborn rend cela très simple)."
   ]
  },
  {
   "cell_type": "code",
   "execution_count": null,
   "id": "7dc619dc",
   "metadata": {
    "deletable": false,
    "editable": false,
    "nbgrader": {
     "cell_type": "code",
     "checksum": "6e2ec79b914d8e67b5a4933351cb215d",
     "grade": false,
     "grade_id": "cell-a61f683d8a61e1ff",
     "locked": true,
     "schema_version": 3,
     "solution": false,
     "task": false
    }
   },
   "outputs": [],
   "source": [
    "sns.histplot(data=data_monde)"
   ]
  },
  {
   "cell_type": "markdown",
   "id": "14e58e5a",
   "metadata": {
    "deletable": false,
    "editable": false,
    "nbgrader": {
     "cell_type": "markdown",
     "checksum": "edd8fea518c967caebe5510faa7d063f",
     "grade": false,
     "grade_id": "cell-087e8529f1075d7c",
     "locked": true,
     "schema_version": 3,
     "solution": false,
     "task": false
    }
   },
   "source": [
    "La méthode `describe` s'appliquant à des dataframe pandas retourne un résumé statistique très pratique des données de chaque colonne :"
   ]
  },
  {
   "cell_type": "code",
   "execution_count": null,
   "id": "d532b0a2",
   "metadata": {
    "deletable": false,
    "editable": false,
    "nbgrader": {
     "cell_type": "code",
     "checksum": "04e2531ff12d5ec388646f8d6845f25d",
     "grade": false,
     "grade_id": "abc",
     "locked": true,
     "schema_version": 3,
     "solution": false,
     "task": false
    }
   },
   "outputs": [],
   "source": [
    "data_monde.describe()"
   ]
  },
  {
   "cell_type": "markdown",
   "id": "13beb079",
   "metadata": {
    "deletable": false,
    "editable": false,
    "nbgrader": {
     "cell_type": "markdown",
     "checksum": "61567f6fd5864e6e3a0e8297296fcbc9",
     "grade": false,
     "grade_id": "cell-a4512fc3c22ffcd1",
     "locked": true,
     "schema_version": 3,
     "solution": false,
     "task": false
    }
   },
   "source": [
    "Pour confirmer certaines des valeurs, vous allez construire différentes fonctions : \n",
    "- une fonction `decompte` qui retourne le nombre d'éléments d'une liste,\n",
    "- une fonction `moyenne` qui retourne la moyenne des éléments d'une liste,\n",
    "- une fonction `mediane` qui retourne la médiane des éléments d'une liste triée en ordre croissant.\n",
    "\n",
    "L'utilisation de fonctions statistiques déjà existantes est bien sûr prohibée."
   ]
  },
  {
   "cell_type": "code",
   "execution_count": null,
   "id": "ec49f573",
   "metadata": {
    "deletable": false,
    "nbgrader": {
     "cell_type": "code",
     "checksum": "70fdeba8c3400c23318ee7b4642537dd",
     "grade": false,
     "grade_id": "divers_fcts",
     "locked": false,
     "schema_version": 3,
     "solution": true,
     "task": false
    }
   },
   "outputs": [],
   "source": [
    "def decompte(L) :\n",
    "    \"\"\"\n",
    "    decompte(L:liste)->entier\n",
    "    \"\"\"\n",
    "    # VOTRE CODE\n",
    "    \n",
    "def moyenne(L) :\n",
    "    \"\"\"\n",
    "    decompte(L:liste)->flottant\n",
    "    \"\"\"\n",
    "    # VOTRE CODE\n",
    "    \n",
    "def mediane(L) :\n",
    "    \"\"\"\n",
    "    decompte(L:liste)->floattant ou entier (suivant les valeurs de L)\n",
    "    \"\"\"\n",
    "    # VOTRE CODE"
   ]
  },
  {
   "cell_type": "code",
   "execution_count": null,
   "id": "306ac3cf",
   "metadata": {
    "deletable": false,
    "editable": false,
    "nbgrader": {
     "cell_type": "code",
     "checksum": "bd563fe50d3f382d2391029f633991cb",
     "grade": true,
     "grade_id": "rep_divers_fcts_1",
     "locked": true,
     "points": 1,
     "schema_version": 3,
     "solution": false,
     "task": false
    }
   },
   "outputs": [],
   "source": [
    "# Cellule de vérification (ne pas modifier)"
   ]
  },
  {
   "cell_type": "code",
   "execution_count": null,
   "id": "e3fb4072",
   "metadata": {
    "deletable": false,
    "editable": false,
    "nbgrader": {
     "cell_type": "code",
     "checksum": "3c962fbe04806c3d8b7ce857c3f39426",
     "grade": true,
     "grade_id": "rep_divers_fcts_2",
     "locked": true,
     "points": 1,
     "schema_version": 3,
     "solution": false,
     "task": false
    }
   },
   "outputs": [],
   "source": [
    "# Cellule de vérification (ne pas modifier)"
   ]
  },
  {
   "cell_type": "code",
   "execution_count": null,
   "id": "1fc62fe2",
   "metadata": {
    "deletable": false,
    "editable": false,
    "nbgrader": {
     "cell_type": "code",
     "checksum": "0ad1599b13a9aef9694408d02ddffea0",
     "grade": true,
     "grade_id": "rep_divers_fcts_3",
     "locked": true,
     "points": 1,
     "schema_version": 3,
     "solution": false,
     "task": false
    }
   },
   "outputs": [],
   "source": [
    "# Cellule de vérification (ne pas modifier)"
   ]
  },
  {
   "cell_type": "markdown",
   "id": "6c9dbe64",
   "metadata": {
    "deletable": false,
    "editable": false,
    "nbgrader": {
     "cell_type": "markdown",
     "checksum": "d554a5bced17e316af12b9bd7af8c382",
     "grade": false,
     "grade_id": "cell-98271c3dbf1608d0",
     "locked": true,
     "schema_version": 3,
     "solution": false,
     "task": false
    }
   },
   "source": [
    "Vous pouvez tester vos fonctions sur la liste `Liste_score` ci-dessous et comparer aux résultats du tableau résumé :"
   ]
  },
  {
   "cell_type": "code",
   "execution_count": null,
   "id": "080f79ff",
   "metadata": {},
   "outputs": [],
   "source": [
    "# cellule de travail\n",
    "Liste_scores = list(data_monde['Score de bonheur'])\n"
   ]
  },
  {
   "cell_type": "markdown",
   "id": "0c42c793",
   "metadata": {
    "deletable": false,
    "editable": false,
    "nbgrader": {
     "cell_type": "markdown",
     "checksum": "6053c6b4b103e4b37a83c617d834668a",
     "grade": false,
     "grade_id": "cell-6600a4dae97a93c9",
     "locked": true,
     "schema_version": 3,
     "solution": false,
     "task": false
    }
   },
   "source": [
    "Calculez dans les cellules suivantes, pour les 3 formes d'importation du module, la déviation standard des éléments de la liste `Liste_scores` en utilisant la fonction `stdev` du module `statistics`.<br>\n",
    "Il s'agit d'évaluer directement l'expresion (le nombre dois s'afficher sous la cellule sans utiliser de `print`)."
   ]
  },
  {
   "cell_type": "code",
   "execution_count": null,
   "id": "1d86a34a",
   "metadata": {
    "deletable": false,
    "nbgrader": {
     "cell_type": "code",
     "checksum": "207b932718c212b7211b91d774a4788d",
     "grade": false,
     "grade_id": "module_1",
     "locked": false,
     "schema_version": 3,
     "solution": true,
     "task": false
    }
   },
   "outputs": [],
   "source": [
    "# première forme d'importation\n",
    "import statistics\n",
    "# VOTRE CODE"
   ]
  },
  {
   "cell_type": "code",
   "execution_count": null,
   "id": "fb4a7a44",
   "metadata": {
    "deletable": false,
    "editable": false,
    "nbgrader": {
     "cell_type": "code",
     "checksum": "83297f343496338336329a863d274d48",
     "grade": true,
     "grade_id": "rep_module_1",
     "locked": true,
     "points": 1,
     "schema_version": 3,
     "solution": false,
     "task": false
    }
   },
   "outputs": [],
   "source": [
    "# Cellule de vérification (ne pas modifier)"
   ]
  },
  {
   "cell_type": "code",
   "execution_count": null,
   "id": "36315bfb",
   "metadata": {
    "deletable": false,
    "nbgrader": {
     "cell_type": "code",
     "checksum": "a40475871fd3043eea05d476b20a8199",
     "grade": false,
     "grade_id": "module_2",
     "locked": false,
     "schema_version": 3,
     "solution": true,
     "task": false
    }
   },
   "outputs": [],
   "source": [
    "# deuxième forme d'importation\n",
    "from statistics import *\n",
    "# Rq : on évite le plus souvent ce type d'importation qui peut générer des conflits de définition.\n",
    "# VOTRE CODE"
   ]
  },
  {
   "cell_type": "code",
   "execution_count": null,
   "id": "00df0309",
   "metadata": {
    "deletable": false,
    "editable": false,
    "nbgrader": {
     "cell_type": "code",
     "checksum": "95517247b63a1338f11ea182147f3f1b",
     "grade": true,
     "grade_id": "rep_module_2",
     "locked": true,
     "points": 1,
     "schema_version": 3,
     "solution": false,
     "task": false
    }
   },
   "outputs": [],
   "source": [
    "# Cellule de vérification (ne pas modifier)"
   ]
  },
  {
   "cell_type": "code",
   "execution_count": null,
   "id": "9b403d6a",
   "metadata": {
    "deletable": false,
    "nbgrader": {
     "cell_type": "code",
     "checksum": "f11c715e40114c77319062cd1557485f",
     "grade": false,
     "grade_id": "module_3",
     "locked": false,
     "schema_version": 3,
     "solution": true,
     "task": false
    }
   },
   "outputs": [],
   "source": [
    "# troisième forme d'importation\n",
    "import statistics as st\n",
    "# C'est la forme la plus pratique si le module est souvent utilisé\n",
    "# VOTRE CODE"
   ]
  },
  {
   "cell_type": "code",
   "execution_count": null,
   "id": "838e0297",
   "metadata": {
    "deletable": false,
    "editable": false,
    "nbgrader": {
     "cell_type": "code",
     "checksum": "72eee73f27a96505e2bd4626e331049a",
     "grade": true,
     "grade_id": "rep_module_3",
     "locked": true,
     "points": 1,
     "schema_version": 3,
     "solution": false,
     "task": false
    }
   },
   "outputs": [],
   "source": [
    "# Cellule de vérification (ne pas modifier)"
   ]
  },
  {
   "cell_type": "markdown",
   "id": "726d812d",
   "metadata": {
    "deletable": false,
    "editable": false,
    "nbgrader": {
     "cell_type": "markdown",
     "checksum": "b216ed28cf72588311f754dbf4eb0f77",
     "grade": false,
     "grade_id": "cell-0e53196bd2f2d4ef",
     "locked": true,
     "schema_version": 3,
     "solution": false,
     "task": false
    }
   },
   "source": [
    "Tracons maintenant un diagramme en batons des scores de bonheur des 60 premiers pays."
   ]
  },
  {
   "cell_type": "code",
   "execution_count": null,
   "id": "f4808035",
   "metadata": {},
   "outputs": [],
   "source": [
    "fig,ax = plt.subplots(figsize=(20,4))\n",
    "sns.barplot(ax = ax,x = data_monde.index[:60], y = data_monde['Score de bonheur'].head(60))\n",
    "plt.xticks(rotation=90)\n",
    "ax.set_xlabel('')"
   ]
  },
  {
   "cell_type": "markdown",
   "id": "f974e3b7",
   "metadata": {
    "deletable": false,
    "editable": false,
    "nbgrader": {
     "cell_type": "markdown",
     "checksum": "8c9ecb75b54d14638d62f5a855ab36c4",
     "grade": false,
     "grade_id": "cell-78e6d75bead95ae9",
     "locked": true,
     "schema_version": 3,
     "solution": false,
     "task": false
    }
   },
   "source": [
    "On remarque que les pays sont classés par score de bonheur décroissant dans le jeu de données d'origine.<br>\n",
    "Mais on peut évidemment choisir un autre critère de classement si on le désire :"
   ]
  },
  {
   "cell_type": "code",
   "execution_count": null,
   "id": "72c9b726",
   "metadata": {
    "deletable": false,
    "editable": false,
    "nbgrader": {
     "cell_type": "code",
     "checksum": "12d73735385ac4fd9867bce2cf9135e4",
     "grade": false,
     "grade_id": "cell-0434b54ba5aed946",
     "locked": true,
     "schema_version": 3,
     "solution": false,
     "task": false
    }
   },
   "outputs": [],
   "source": [
    "data_monde.sort_values(by=\"PIB par habitant (log)\",ascending=True).head(10)"
   ]
  },
  {
   "cell_type": "code",
   "execution_count": null,
   "id": "fc38f565",
   "metadata": {
    "deletable": false,
    "editable": false,
    "nbgrader": {
     "cell_type": "code",
     "checksum": "1814283fc116f7dedfe7498a52bd3d72",
     "grade": false,
     "grade_id": "cell-ea6641c652cb7b2a",
     "locked": true,
     "schema_version": 3,
     "solution": false,
     "task": false
    }
   },
   "outputs": [],
   "source": [
    "data_monde.sort_values(by=\"Corruption perçue\",ascending=False).head()"
   ]
  },
  {
   "cell_type": "code",
   "execution_count": null,
   "id": "5cbef2a3",
   "metadata": {
    "deletable": false,
    "editable": false,
    "nbgrader": {
     "cell_type": "code",
     "checksum": "b31aa4e5515b33c3e7e10fd500e2c95b",
     "grade": false,
     "grade_id": "cell-71f94cb143ac36be",
     "locked": true,
     "schema_version": 3,
     "solution": false,
     "task": false
    }
   },
   "outputs": [],
   "source": [
    "data_monde.sort_values(by=\"Générosité\",ascending=False).iloc[[45]]"
   ]
  },
  {
   "cell_type": "markdown",
   "id": "f92ba711",
   "metadata": {
    "deletable": false,
    "editable": false,
    "nbgrader": {
     "cell_type": "markdown",
     "checksum": "e030594258e2eca09a082d06c4c154a3",
     "grade": false,
     "grade_id": "cell-b56e675dc9903f72",
     "locked": true,
     "schema_version": 3,
     "solution": false,
     "task": false
    }
   },
   "source": [
    "D'après la cellule précédente, le 46<sup>e</sup> (le 1<sup>er</sup> est à l'indice 0) meilleur score de générosité appartient au Danemark.\n",
    "\n",
    "Quel pays correspond à la 59<sup>e</sup> plus courte espérance de vie en bonne santé ?"
   ]
  },
  {
   "cell_type": "code",
   "execution_count": null,
   "id": "8bace726",
   "metadata": {},
   "outputs": [],
   "source": [
    "# Cellule de travail\n"
   ]
  },
  {
   "cell_type": "code",
   "execution_count": null,
   "id": "40c0e337",
   "metadata": {},
   "outputs": [],
   "source": [
    "# Remplacer 'France' par la bonne réponse (garder l'orthographe anglaise identique au jeu de données)\n",
    "nom_pays = 'France'"
   ]
  },
  {
   "cell_type": "code",
   "execution_count": null,
   "id": "b05f99bc",
   "metadata": {
    "deletable": false,
    "editable": false,
    "nbgrader": {
     "cell_type": "code",
     "checksum": "d02a95373453fe790a2540900330ae81",
     "grade": true,
     "grade_id": "rep_nom_pays",
     "locked": true,
     "points": 1,
     "schema_version": 3,
     "solution": false,
     "task": false
    }
   },
   "outputs": [],
   "source": [
    "# Cellule de vérification (ne pas modifier)"
   ]
  },
  {
   "cell_type": "markdown",
   "id": "c2347152",
   "metadata": {},
   "source": [
    "On peut aussi aisément filtrer le jeu de données en fonction de n'importe quel critère :"
   ]
  },
  {
   "cell_type": "code",
   "execution_count": null,
   "id": "7a9e0733",
   "metadata": {},
   "outputs": [],
   "source": [
    "data_monde[(data_monde[\"Espérance de vie en bonne santé\"]>60) & (data_monde[\"Espérance de vie en bonne santé\"]<61)]\n",
    "# Rq : pandas nécessite les opérateurs logiques bit à bit '&' (et) et '|' (ou) \n",
    "# plutôt que les opérateurs élément par élément 'and' et 'or' qui lèveraient une erreur."
   ]
  },
  {
   "cell_type": "markdown",
   "id": "26ec392f",
   "metadata": {
    "deletable": false,
    "editable": false,
    "nbgrader": {
     "cell_type": "markdown",
     "checksum": "fefbcc7e431f8effa2c9c3d20076e5ec",
     "grade": false,
     "grade_id": "cell-4266d26970527e78",
     "locked": true,
     "schema_version": 3,
     "solution": false,
     "task": false
    }
   },
   "source": [
    "Quel pays possède un score de bonheur inférieur à 5 malgré une valeur de corruption perçue inférieure à 0.5 ?"
   ]
  },
  {
   "cell_type": "code",
   "execution_count": null,
   "id": "2060b500",
   "metadata": {},
   "outputs": [],
   "source": [
    "# Remplacer 'France' par la bonne réponse (garder l'orthographe anglaise identique au jeu de données)\n",
    "nom_pays = 'France'"
   ]
  },
  {
   "cell_type": "code",
   "execution_count": null,
   "id": "dc101369",
   "metadata": {
    "deletable": false,
    "editable": false,
    "nbgrader": {
     "cell_type": "code",
     "checksum": "403f2759c8fb9ebbf601d5a6449ab3de",
     "grade": true,
     "grade_id": "rep_pays_2",
     "locked": true,
     "points": 1,
     "schema_version": 3,
     "solution": false,
     "task": false
    }
   },
   "outputs": [],
   "source": [
    "# Cellule de vérification (ne pas modifier)"
   ]
  },
  {
   "cell_type": "markdown",
   "id": "c6205cc4",
   "metadata": {
    "deletable": false,
    "editable": false,
    "nbgrader": {
     "cell_type": "markdown",
     "checksum": "0ce34f3e9c58f7ef41af10bebae19951",
     "grade": false,
     "grade_id": "cell-99c918d9e109f030",
     "locked": true,
     "schema_version": 3,
     "solution": false,
     "task": false
    }
   },
   "source": [
    "Pour récupérer l'ensemble des données d'un pays en particulier, on utilise :"
   ]
  },
  {
   "cell_type": "code",
   "execution_count": null,
   "id": "e87c90fd",
   "metadata": {},
   "outputs": [],
   "source": [
    "data_monde.loc['France']"
   ]
  },
  {
   "cell_type": "markdown",
   "id": "7abaf4db",
   "metadata": {
    "deletable": false,
    "editable": false,
    "nbgrader": {
     "cell_type": "markdown",
     "checksum": "30bde41a55dde8d838c6d82f3e18543d",
     "grade": false,
     "grade_id": "cell-bc92055fe71b428f",
     "locked": true,
     "schema_version": 3,
     "solution": false,
     "task": false
    }
   },
   "source": [
    "Pour chaque variable mesurée (chaque colonne), on peut facilement tracer des histogrammes illustrant la répartition des valeurs."
   ]
  },
  {
   "cell_type": "code",
   "execution_count": null,
   "id": "24e7c48f",
   "metadata": {},
   "outputs": [],
   "source": [
    "sns.displot(data_monde, x=\"Score de bonheur\", bins=20,  kde=True, height=4, aspect=3)\n",
    "# bins contrôle le nombre de classes"
   ]
  },
  {
   "cell_type": "markdown",
   "id": "edab25a7",
   "metadata": {},
   "source": [
    "On peut aussi tirer profit de l'interactivité pour obtenir les informations voulues directement en survolant le graphe.\n",
    "\n",
    "On utilise pour cela la bibliothèque `Plotly express` qui sait (comme seaborn) parler à une dataframe pandas.<br>\n",
    "On peut zoomer sur ces graphiques interactifs et obtenir des informations en survolant avec le curseur."
   ]
  },
  {
   "cell_type": "code",
   "execution_count": null,
   "id": "77c32360",
   "metadata": {},
   "outputs": [],
   "source": [
    "px.histogram(data_monde,'Corruption perçue',nbins=40,title=\"Corruption perçue\")\n",
    "# Cette fois-ci, le nombre de classes est désigné par nbins."
   ]
  },
  {
   "cell_type": "markdown",
   "id": "84af8306",
   "metadata": {
    "deletable": false,
    "editable": false,
    "nbgrader": {
     "cell_type": "markdown",
     "checksum": "97636851d59d64b9ef72a4db4ecde20e",
     "grade": false,
     "grade_id": "cell-4f8a36689d439ea0",
     "locked": true,
     "schema_version": 3,
     "solution": false,
     "task": false
    }
   },
   "source": [
    "Modifez le graphe précedent pour répondre à cette question : combien la classe la plus peuplée de l'histogramme de l'espérence de vie en bonne santé compte-elle de valeurs si l'histogramme comporte 30 classes ?"
   ]
  },
  {
   "cell_type": "code",
   "execution_count": null,
   "id": "e3e1dbe7",
   "metadata": {},
   "outputs": [],
   "source": [
    "# notez votre réponse (sous la forme d'un entier)\n",
    "nb_valeurs ="
   ]
  },
  {
   "cell_type": "code",
   "execution_count": null,
   "id": "029fce2c",
   "metadata": {
    "deletable": false,
    "editable": false,
    "nbgrader": {
     "cell_type": "code",
     "checksum": "8443283376a8bde4afedab825fc93e0e",
     "grade": true,
     "grade_id": "rep_nb_valeurs",
     "locked": true,
     "points": 1,
     "schema_version": 3,
     "solution": false,
     "task": false
    }
   },
   "outputs": [],
   "source": [
    "# Cellule de vérification (ne pas modifier)"
   ]
  },
  {
   "cell_type": "markdown",
   "id": "cdb57bea",
   "metadata": {
    "deletable": false,
    "editable": false,
    "nbgrader": {
     "cell_type": "markdown",
     "checksum": "9a16c2928ff265873253bddbee490500",
     "grade": false,
     "grade_id": "cell-cec347cd3a701d2b",
     "locked": true,
     "schema_version": 3,
     "solution": false,
     "task": false
    }
   },
   "source": [
    "### Regroupement des données"
   ]
  },
  {
   "cell_type": "markdown",
   "id": "b2d911f0",
   "metadata": {
    "deletable": false,
    "editable": false,
    "nbgrader": {
     "cell_type": "markdown",
     "checksum": "fffb6e4553989dd8fca91a1fadd48ca5",
     "grade": false,
     "grade_id": "cell-4574f1cf8a7bffce",
     "locked": true,
     "schema_version": 3,
     "solution": false,
     "task": false
    }
   },
   "source": [
    "On remarque que le jeu de données contient une colonne catégorielle : \"Région du monde\".<br> Cela va nous permettre d'explorer de possibles dynamiques régionales : est-ce que les pays d'une même zone ont des indicateurs semblables ?"
   ]
  },
  {
   "cell_type": "code",
   "execution_count": null,
   "id": "c65a3281",
   "metadata": {
    "deletable": false,
    "editable": false,
    "nbgrader": {
     "cell_type": "code",
     "checksum": "3a2abe0bb5b523e210b7300d62fb15c8",
     "grade": false,
     "grade_id": "cell-6fff41d658b4fe5c",
     "locked": true,
     "schema_version": 3,
     "solution": false,
     "task": false
    }
   },
   "outputs": [],
   "source": [
    "pd.unique(data_monde[\"Région du monde\"]) # permet d'afficher une seule fois chacune des valeurs différentes de la colonne"
   ]
  },
  {
   "cell_type": "markdown",
   "id": "b8666648",
   "metadata": {
    "deletable": false,
    "editable": false,
    "nbgrader": {
     "cell_type": "markdown",
     "checksum": "16b25dac5d9c8d9416493006423590fc",
     "grade": false,
     "grade_id": "cell-9738e80275ee821a",
     "locked": true,
     "schema_version": 3,
     "solution": false,
     "task": false
    }
   },
   "source": [
    "Traçons des diagrammes en boîte à moustaches représentant les scores de bonheur pour chacune des régions.<br>\n",
    "À nouveau Seaborn rend cela très simple..."
   ]
  },
  {
   "cell_type": "code",
   "execution_count": null,
   "id": "35a56b12",
   "metadata": {},
   "outputs": [],
   "source": [
    "sns.set_style(\"white\")\n",
    "fig, ax = plt.subplots(figsize=(12,8))\n",
    "sns.boxplot(ax = ax, x=\"Score de bonheur\", y=\"Région du monde\", palette=\"husl\", data=data_monde)\n",
    "sns.despine(offset=10, trim=True)\n",
    "ax.set_ylabel('')"
   ]
  },
  {
   "cell_type": "markdown",
   "id": "0aa9ae29",
   "metadata": {
    "deletable": false,
    "editable": false,
    "nbgrader": {
     "cell_type": "markdown",
     "checksum": "53dabc71e6fecb5cc73c3cae7fffd430",
     "grade": false,
     "grade_id": "cell-df16940be81d1b39",
     "locked": true,
     "schema_version": 3,
     "solution": false,
     "task": false
    }
   },
   "source": [
    "Traçons maintenant un graphe plus général représentant toutes les relations possibles entre deux axes du jeu de données pour voir si certaines combinaisons discriminent plus nettement les différentes régions."
   ]
  },
  {
   "cell_type": "code",
   "execution_count": null,
   "id": "64174326",
   "metadata": {},
   "outputs": [],
   "source": [
    "# Un peu long à s'exécuter (environ 30 s)\n",
    "g = sns.pairplot(data_monde, hue=\"Région du monde\", corner=True)\n",
    "g._legend.set_bbox_to_anchor((0.6, 0.8))"
   ]
  },
  {
   "cell_type": "markdown",
   "id": "40322d6c",
   "metadata": {
    "deletable": false,
    "editable": false,
    "nbgrader": {
     "cell_type": "markdown",
     "checksum": "74a8c8dcd32be7b2ef46bc5646031945",
     "grade": false,
     "grade_id": "cell-47264c9249fe391e",
     "locked": true,
     "schema_version": 3,
     "solution": false,
     "task": false
    }
   },
   "source": [
    "On constate que les groupes régionaux sont relativement homogènes pour la plupart des critères.\n",
    "\n",
    "Zoomons sur un de ces graphes :"
   ]
  },
  {
   "cell_type": "code",
   "execution_count": null,
   "id": "c8d2ef1c",
   "metadata": {},
   "outputs": [],
   "source": [
    "sns.set_style(\"whitegrid\")\n",
    "sns.jointplot(data=data_monde,x=\"PIB par habitant (log)\", y=\"Score de bonheur\", hue=\"Région du monde\", kind='scatter', height=8, legend=False)"
   ]
  },
  {
   "cell_type": "markdown",
   "id": "a6659e92",
   "metadata": {
    "deletable": false,
    "editable": false,
    "nbgrader": {
     "cell_type": "markdown",
     "checksum": "a44cf035af8f52aee751e94439e7d027",
     "grade": false,
     "grade_id": "cell-62dc84f11826d627",
     "locked": true,
     "schema_version": 3,
     "solution": false,
     "task": false
    }
   },
   "source": [
    "Une version interactive du même graphique permet de consulter les informations pour chaque point :"
   ]
  },
  {
   "cell_type": "code",
   "execution_count": null,
   "id": "1ea29744",
   "metadata": {},
   "outputs": [],
   "source": [
    "px.scatter(data_monde,x='PIB par habitant (log)', y='Score de bonheur', hover_name=data_monde.index, color='Région du monde')"
   ]
  },
  {
   "cell_type": "markdown",
   "id": "3f1c9cb4",
   "metadata": {
    "deletable": false,
    "editable": false,
    "nbgrader": {
     "cell_type": "markdown",
     "checksum": "0ffd1348eff62f5d27ab1ab2f6635eef",
     "grade": false,
     "grade_id": "cell-c34d39e9aec8039a",
     "locked": true,
     "schema_version": 3,
     "solution": false,
     "task": false
    }
   },
   "source": [
    "Trouvez la région du monde représentée sur le graphe suivant (le graphe interactif permet de trouver la réponse facilement).\n",
    "<img src=\"http://cordier-phychi.toile-libre.org/Info/images/graphemystere.png\" width=\"600\"/>"
   ]
  },
  {
   "cell_type": "code",
   "execution_count": null,
   "id": "609ea484",
   "metadata": {},
   "outputs": [],
   "source": [
    "# notez votre réponse ci-dessous sous la forme d'une chaîne de caractères identique à celles du jeu de données\n",
    "région = '...'"
   ]
  },
  {
   "cell_type": "code",
   "execution_count": null,
   "id": "73519a8d",
   "metadata": {
    "deletable": false,
    "editable": false,
    "nbgrader": {
     "cell_type": "code",
     "checksum": "87474938a06cf175dda294b0cff6556a",
     "grade": true,
     "grade_id": "rep_region",
     "locked": true,
     "points": 1,
     "schema_version": 3,
     "solution": false,
     "task": false
    }
   },
   "outputs": [],
   "source": [
    "# Cellule de vérification (ne pas modifier)"
   ]
  },
  {
   "cell_type": "markdown",
   "id": "30521d00",
   "metadata": {
    "deletable": false,
    "editable": false,
    "nbgrader": {
     "cell_type": "markdown",
     "checksum": "1452263914c3861659994c9d013aab4d",
     "grade": false,
     "grade_id": "cell-235b4c963745da6e",
     "locked": true,
     "schema_version": 3,
     "solution": false,
     "task": false
    }
   },
   "source": [
    "Allons maintenant au-delà de la proximité géographique pour regrouper les pays en 3 grands blocs socioéconomiques : \"Nord\", \"Sud\", \"Intermédiaire\"."
   ]
  },
  {
   "cell_type": "code",
   "execution_count": null,
   "id": "2825ca22",
   "metadata": {
    "deletable": false,
    "editable": false,
    "nbgrader": {
     "cell_type": "code",
     "checksum": "f9cd7dba631f9c224b7464586800c7b6",
     "grade": false,
     "grade_id": "cell-56914604bed799f1",
     "locked": true,
     "schema_version": 3,
     "solution": false,
     "task": false
    }
   },
   "outputs": [],
   "source": [
    "conditions = [(data_monde['Région du monde'] == 'Western Europe') | (data_monde['Région du monde'] == 'North America and ANZ'),(data_monde['Région du monde'] == 'South Asia') | (data_monde['Région du monde'] == 'Sub-Saharan Africa')]\n",
    "choix = ['\"Nord\"', '\"Sud\"']\n",
    "data_monde['Groupe'] = np.select(conditions, choix, default='Autres')\n",
    "deux_gpes = data_monde[data_monde[\"Groupe\"].isin(['\"Nord\"','\"Sud\"'])]"
   ]
  },
  {
   "cell_type": "code",
   "execution_count": null,
   "id": "2256403b",
   "metadata": {
    "deletable": false,
    "editable": false,
    "nbgrader": {
     "cell_type": "code",
     "checksum": "e39ea86e5218f6da48b416220010e99f",
     "grade": false,
     "grade_id": "cell-21bda5a1b0a10211",
     "locked": true,
     "schema_version": 3,
     "solution": false,
     "task": false
    }
   },
   "outputs": [],
   "source": [
    "# Un peu long à s'exécuter (environ 30 s)\n",
    "sns.set_style(\"white\")\n",
    "g = sns.PairGrid(data_monde, diag_sharey=False, hue=\"Groupe\")\n",
    "g.map_upper(sns.scatterplot)\n",
    "g.map_lower(sns.kdeplot,common_norm=False)\n",
    "g.map_diag(sns.histplot,bins=20,kde=True)\n",
    "g.add_legend(title=\"Grands groupes\",adjust_subtitles=True)"
   ]
  },
  {
   "cell_type": "markdown",
   "id": "a35edbc7",
   "metadata": {
    "deletable": false,
    "editable": false,
    "nbgrader": {
     "cell_type": "markdown",
     "checksum": "b1a7296fee70a2480e7d79e71b820da3",
     "grade": false,
     "grade_id": "cell-7bc45287fb2cc727",
     "locked": true,
     "schema_version": 3,
     "solution": false,
     "task": false
    }
   },
   "source": [
    "L'homogénéité de ces 3 groupes saute aux yeux."
   ]
  },
  {
   "cell_type": "markdown",
   "id": "7b00f77e",
   "metadata": {
    "deletable": false,
    "editable": false,
    "nbgrader": {
     "cell_type": "markdown",
     "checksum": "e8262323a73792b290d00541236d8ade",
     "grade": false,
     "grade_id": "cell-d55946dd8e8bd16f",
     "locked": true,
     "schema_version": 3,
     "solution": false,
     "task": false
    }
   },
   "source": [
    "### Corrélations"
   ]
  },
  {
   "cell_type": "markdown",
   "id": "8b82f136",
   "metadata": {
    "deletable": false,
    "editable": false,
    "nbgrader": {
     "cell_type": "markdown",
     "checksum": "b55929e397dbe1824d95f17366692a1e",
     "grade": false,
     "grade_id": "cell-2c247684b325808f",
     "locked": true,
     "schema_version": 3,
     "solution": false,
     "task": false
    }
   },
   "source": [
    "Les graphiques précédents mettent en évidence des corrélations assez fortes entre certaines grandeurs.<br>\n",
    "Creusons un peu."
   ]
  },
  {
   "cell_type": "code",
   "execution_count": null,
   "id": "2d8fe38c",
   "metadata": {},
   "outputs": [],
   "source": [
    "g = sns.PairGrid(data_monde, y_vars=[\"Score de bonheur\"], x_vars=[\"PIB par habitant (log)\", \"Corruption perçue\"], height=7, aspect=1.5)\n",
    "g.map(sns.regplot)"
   ]
  },
  {
   "cell_type": "markdown",
   "id": "385d6c1e",
   "metadata": {
    "deletable": false,
    "editable": false,
    "nbgrader": {
     "cell_type": "markdown",
     "checksum": "ed6e9ad010f160f714809a03ddc8e207",
     "grade": false,
     "grade_id": "cell-3b4fbbe9f04e8810",
     "locked": true,
     "schema_version": 3,
     "solution": false,
     "task": false
    }
   },
   "source": [
    "On constate sur cet exemple que le score de bonheur est corrélé positivement avec le PIB par habitant et négativement avec le degré de corruption perçue.\n",
    "\n",
    "Pour avoir un panorama complet, traçons la matrice de corrélation donnant, pour chaque couple de variable, la valeur du coefficient de corrélation $r$ (valeur entre -1 et 1 traduisant le degré de dépendance linéaire entre deux variables) :"
   ]
  },
  {
   "cell_type": "code",
   "execution_count": null,
   "id": "280e1db9",
   "metadata": {
    "deletable": false,
    "editable": false,
    "nbgrader": {
     "cell_type": "code",
     "checksum": "381942444dec4ca32da1b5df29bf34d3",
     "grade": false,
     "grade_id": "cell-95a28d8afb9d1795",
     "locked": true,
     "schema_version": 3,
     "solution": false,
     "task": false
    }
   },
   "outputs": [],
   "source": [
    "fig, ax = plt.subplots(figsize=(12,10))   \n",
    "cmap = sns.diverging_palette(0, 230, 90, 60, as_cmap=True).reversed() # choix de la palette de couleurs\n",
    "sns.heatmap(data_monde.iloc[:,1:].corr(), cmap=cmap, center=0, annot=True, fmt=\".2f\", linewidth = 0.5, ax=ax)"
   ]
  },
  {
   "cell_type": "markdown",
   "id": "77b31468",
   "metadata": {
    "deletable": false,
    "editable": false,
    "nbgrader": {
     "cell_type": "markdown",
     "checksum": "9263a2a4ba7f4c3864b94eef6a8e9211",
     "grade": false,
     "grade_id": "cell-ef197defd15fd530",
     "locked": true,
     "schema_version": 3,
     "solution": false,
     "task": false
    }
   },
   "source": [
    "Citez les deux variables les moins corrélées entre elles (donner les noms exacts tels qu'ils apparaissent dans les données, attention à la casse). L'ordre des variables n'est pas important."
   ]
  },
  {
   "cell_type": "code",
   "execution_count": null,
   "id": "52c3f1a0",
   "metadata": {},
   "outputs": [],
   "source": [
    "variable1 = \"nom de la première variable\"\n",
    "variable2 = \"nom de la deuxième variable\""
   ]
  },
  {
   "cell_type": "code",
   "execution_count": null,
   "id": "5b5e2ab5",
   "metadata": {
    "deletable": false,
    "editable": false,
    "nbgrader": {
     "cell_type": "code",
     "checksum": "6023fb00f9438c8edbc27b1c625fe661",
     "grade": true,
     "grade_id": "correlation",
     "locked": true,
     "points": 1,
     "schema_version": 3,
     "solution": false,
     "task": false
    }
   },
   "outputs": [],
   "source": [
    "# Cellule de vérification (ne pas modifier)"
   ]
  }
 ],
 "metadata": {
  "kernelspec": {
   "display_name": "Python 3",
   "language": "python",
   "name": "python3"
  },
  "language_info": {
   "codemirror_mode": {
    "name": "ipython",
    "version": 3
   },
   "file_extension": ".py",
   "mimetype": "text/x-python",
   "name": "python",
   "nbconvert_exporter": "python",
   "pygments_lexer": "ipython3",
   "version": "3.8.10"
  }
 },
 "nbformat": 4,
 "nbformat_minor": 5
}
