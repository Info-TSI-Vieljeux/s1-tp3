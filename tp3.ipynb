{
 "cells": [
  {
   "cell_type": "markdown",
   "id": "2c5f345d",
   "metadata": {},
   "source": [
    ">Ouvrir le notebook dans Colab en modifiant le début de son adresse dans le navigateur :<br>\n",
    "il faut remplacer **github.com** par **githubtocolab.com**.<br>\n",
    "Une fois vos réponses apportées, le notebook devra être sauvegardé dans GitHub, dans le repository du TP :<br>\n",
    "*Fichier > Sauvegarder une copie dans Github*<br>\n",
    "\n",
    "---"
   ]
  },
  {
   "cell_type": "markdown",
   "id": "99ad7d8b",
   "metadata": {
    "deletable": false,
    "editable": false,
    "nbgrader": {
     "cell_type": "markdown",
     "checksum": "c49bdd94238d88141faa307ab9046fd4",
     "grade": false,
     "grade_id": "cell-87b731c729cffdf9",
     "locked": true,
     "schema_version": 3,
     "solution": false,
     "task": false
    }
   },
   "source": [
    "# Utilisation de modules, de bibliothèques"
   ]
  },
  {
   "cell_type": "markdown",
   "id": "2d0e0d65",
   "metadata": {
    "deletable": false,
    "editable": false,
    "nbgrader": {
     "cell_type": "markdown",
     "checksum": "7672b7ef75495ac12232f57351bfd3c1",
     "grade": false,
     "grade_id": "cell-99844ebed31c5f1e",
     "locked": true,
     "schema_version": 3,
     "solution": false,
     "task": false
    }
   },
   "source": [
    "## Exploration d'un jeu de données"
   ]
  },
  {
   "cell_type": "markdown",
   "id": "535b2672",
   "metadata": {
    "deletable": false,
    "editable": false,
    "nbgrader": {
     "cell_type": "markdown",
     "checksum": "e441efc943cd73ac9c7c56597ac92b7c",
     "grade": false,
     "grade_id": "cell-d5222a0f79f4dea8",
     "locked": true,
     "schema_version": 3,
     "solution": false,
     "task": false
    }
   },
   "source": [
    "### Statistiques simples"
   ]
  },
  {
   "cell_type": "markdown",
   "id": "4511fc25",
   "metadata": {
    "deletable": false,
    "editable": false,
    "nbgrader": {
     "cell_type": "markdown",
     "checksum": "5ecfedf6d84ade1ca3a29464571d283d",
     "grade": false,
     "grade_id": "cell-663aeb5cee974947",
     "locked": true,
     "schema_version": 3,
     "solution": false,
     "task": false
    }
   },
   "source": [
    "Commençons par importer les bibliothèques qui nous seront nécessaires :"
   ]
  },
  {
   "cell_type": "code",
   "execution_count": null,
   "id": "b3a7cc61",
   "metadata": {
    "deletable": false,
    "editable": false,
    "nbgrader": {
     "cell_type": "code",
     "checksum": "df932d45be57955c8832014e100c1a1e",
     "grade": false,
     "grade_id": "cell-c30816526da85c7d",
     "locked": true,
     "schema_version": 3,
     "solution": false,
     "task": false
    }
   },
   "outputs": [],
   "source": [
    "import pandas as pd # bibliothèques dédiée au traitement de jeux de données\n",
    "import matplotlib.pyplot as plt # bibliothèque graphique\n",
    "import seaborn as sns # bibliothèque graphique reposant sur matplotlib et dédiée plus particulièrement à la représentation de jeux de données\n",
    "import numpy as np # bibliothèque puissante permettant de gérer des tableaux multidimensionnels\n",
    "import plotly.express as px # libraire permettant des graphes interactifs\n",
    "import plotly.graph_objects as go # complémentaire à la première"
   ]
  },
  {
   "cell_type": "code",
   "execution_count": null,
   "id": "4d487d8c",
   "metadata": {
    "deletable": false,
    "editable": false,
    "nbgrader": {
     "cell_type": "code",
     "checksum": "78e3d83d424c469b657581865ea3ea04",
     "grade": false,
     "grade_id": "cell-764b68ee83ae579c",
     "locked": true,
     "schema_version": 3,
     "solution": false,
     "task": false
    }
   },
   "outputs": [],
   "source": [
    "# paramètres par défaut pour le graphes\n",
    "plt.style.use('ggplot')\n",
    "plt.rcParams['figure.figsize'] = (15, 6)\n",
    "plt.rcParams['font.family'] = \"serif\"\n",
    "plt.rcParams['font.size'] = 13\n",
    "sns.set_style(\"white\")"
   ]
  },
  {
   "cell_type": "markdown",
   "id": "9243c3ee",
   "metadata": {
    "deletable": false,
    "editable": false,
    "nbgrader": {
     "cell_type": "markdown",
     "checksum": "68a4e897f323d851752a33b35a1b2ec0",
     "grade": false,
     "grade_id": "cell-a30bc3564d1586d2",
     "locked": true,
     "schema_version": 3,
     "solution": false,
     "task": false
    }
   },
   "source": [
    "Le jeu de données est issu du [World Happiness report](https://worldhappiness.report) (une publication annuelle de l'ONU mesurant le degrés de bonheur de la population mondiale par pays à partir de sondages)."
   ]
  },
  {
   "cell_type": "code",
   "execution_count": null,
   "id": "23d55d24",
   "metadata": {
    "deletable": false,
    "editable": false,
    "nbgrader": {
     "cell_type": "code",
     "checksum": "7f3a3740e160f2aca06619a1c6c2d24c",
     "grade": false,
     "grade_id": "cell-9b4ebc5c4f01c4b4",
     "locked": true,
     "schema_version": 3,
     "solution": false,
     "task": false
    }
   },
   "outputs": [],
   "source": [
    "url = \"http://cordier-phychi.toile-libre.org/Info/github/2020.csv\"\n",
    "data_monde = pd.read_csv(url,sep=\";\",index_col=0) # data_monde est une dataframe Pandas"
   ]
  },
  {
   "cell_type": "markdown",
   "id": "6b19d749",
   "metadata": {},
   "source": [
    "Une dataframe est une sorte de dictionnaire dont les clés sont les en-têtes des colonnes et dont les lignes sont indexées."
   ]
  },
  {
   "cell_type": "code",
   "execution_count": null,
   "id": "f4a21f76",
   "metadata": {
    "deletable": false,
    "editable": false,
    "nbgrader": {
     "cell_type": "code",
     "checksum": "6930ac178946dbe9791395fc8a1ad22d",
     "grade": false,
     "grade_id": "cell-bd657abeb7521953",
     "locked": true,
     "schema_version": 3,
     "solution": false,
     "task": false
    }
   },
   "outputs": [],
   "source": [
    "data_monde"
   ]
  },
  {
   "cell_type": "markdown",
   "id": "aa7c9350",
   "metadata": {
    "deletable": false,
    "editable": false,
    "nbgrader": {
     "cell_type": "markdown",
     "checksum": "e2aaeb679ef1a17b237070197481681a",
     "grade": false,
     "grade_id": "cell-57ca01f488494ff5",
     "locked": true,
     "schema_version": 3,
     "solution": false,
     "task": false
    }
   },
   "source": [
    "Précisions sur ces données :\n",
    "- le score de bonheur est un score sur 10 correspondant à la moyenne des réponses des sondés (0 correspond à la pire vie possible et 10 à la meilleure)\n",
    "- ce n'est pas le PIB par habitant mais son logarithme qui est utilisé pour ne pas avoir des valeurs sur des ordres de grandeur trop différents d'une colonne à l'autre\n",
    "- entraide sociale : moyenne des réponses à la question binaire \"en cas de difficultés, pouvez-vous compter sur de la famille ou des amis pour vous aider ?\" (0 : non, 1 : oui)\n",
    "- liberté des choix de vie : moyenne des réponses à la question binaire \"êtes-vous satisfait ou non de votre liberté à choisir ce que vous voulez faire de votre vie ?\" (0 : non, 1 : oui)\n",
    "- générosité : moyenne des réponses à \"Avez-vous donné à une association caritative le mois dernier ?\" ajustée par rapport au PIB par habitant (valeur résiduelle)\n",
    "- corruption perçue : moyenne des réponses à la question binaire \"la corruption est-elle répandue dans le gouvernement ?\" (0 : non, 1 : oui)"
   ]
  },
  {
   "cell_type": "markdown",
   "id": "aeadf8bf",
   "metadata": {
    "deletable": false,
    "editable": false,
    "nbgrader": {
     "cell_type": "markdown",
     "checksum": "6e046b66d6edf12afd91a0a454d7c69d",
     "grade": false,
     "grade_id": "cell-fb6151c04bd1f61d",
     "locked": true,
     "schema_version": 3,
     "solution": false,
     "task": false
    }
   },
   "source": [
    "On simplifie un peu le jeu de données en retirant la colonne 'Déviation standard' et 'Score de bonheur en distopie' (score minimal obtenu)."
   ]
  },
  {
   "cell_type": "code",
   "execution_count": null,
   "id": "83c32433",
   "metadata": {
    "deletable": false,
    "editable": false,
    "nbgrader": {
     "cell_type": "code",
     "checksum": "5f13ff3e1aa274d2018f140dd1586530",
     "grade": false,
     "grade_id": "cell-3172117e2382136b",
     "locked": true,
     "schema_version": 3,
     "solution": false,
     "task": false
    }
   },
   "outputs": [],
   "source": [
    "data_monde.drop(columns=['déviation standard','Score de bonheur en Distopie'], inplace=True)\n",
    "data_monde.head(3)"
   ]
  },
  {
   "cell_type": "code",
   "execution_count": null,
   "id": "8fd8f844",
   "metadata": {},
   "outputs": [],
   "source": [
    "data_monde.tail(3)"
   ]
  },
  {
   "cell_type": "markdown",
   "id": "cde08da8",
   "metadata": {},
   "source": [
    "Traçons un histogramme brut du jeu de données complet pour y voir plus clair (la librairie Seaborn rend cela très simple)."
   ]
  },
  {
   "cell_type": "code",
   "execution_count": null,
   "id": "7dc619dc",
   "metadata": {
    "deletable": false,
    "editable": false,
    "nbgrader": {
     "cell_type": "code",
     "checksum": "6e2ec79b914d8e67b5a4933351cb215d",
     "grade": false,
     "grade_id": "cell-a61f683d8a61e1ff",
     "locked": true,
     "schema_version": 3,
     "solution": false,
     "task": false
    }
   },
   "outputs": [],
   "source": [
    "sns.histplot(data=data_monde)"
   ]
  },
  {
   "cell_type": "markdown",
   "id": "14e58e5a",
   "metadata": {
    "deletable": false,
    "editable": false,
    "nbgrader": {
     "cell_type": "markdown",
     "checksum": "edd8fea518c967caebe5510faa7d063f",
     "grade": false,
     "grade_id": "cell-087e8529f1075d7c",
     "locked": true,
     "schema_version": 3,
     "solution": false,
     "task": false
    }
   },
   "source": [
    "La méthode `describe` s'appliquant à des dataframe pandas retourne un résumé statistique très pratique des données de chaque colonne :"
   ]
  },
  {
   "cell_type": "code",
   "execution_count": null,
   "id": "d532b0a2",
   "metadata": {
    "deletable": false,
    "editable": false,
    "nbgrader": {
     "cell_type": "code",
     "checksum": "04e2531ff12d5ec388646f8d6845f25d",
     "grade": false,
     "grade_id": "abc",
     "locked": true,
     "schema_version": 3,
     "solution": false,
     "task": false
    }
   },
   "outputs": [],
   "source": [
    "data_monde.describe()"
   ]
  },
  {
   "cell_type": "markdown",
   "id": "13beb079",
   "metadata": {
    "deletable": false,
    "editable": false,
    "nbgrader": {
     "cell_type": "markdown",
     "checksum": "61567f6fd5864e6e3a0e8297296fcbc9",
     "grade": false,
     "grade_id": "cell-a4512fc3c22ffcd1",
     "locked": true,
     "schema_version": 3,
     "solution": false,
     "task": false
    }
   },
   "source": [
    "Pour confirmer certaines des valeurs, vous allez construire différentes fonctions : \n",
    "- une fonction `decompte` qui retourne le nombre d'éléments d'une liste,\n",
    "- une fonction `moyenne` qui retourne la moyenne des éléments d'une liste,\n",
    "- une fonction `mediane` qui retourne la médiane des éléments d'une liste triée en ordre croissant.\n",
    "\n",
    "L'utilisation de fonctions statistiques déjà existantes est bien sûr prohibée."
   ]
  },
  {
   "cell_type": "code",
   "execution_count": null,
   "id": "ec49f573",
   "metadata": {
    "deletable": false,
    "nbgrader": {
     "cell_type": "code",
     "checksum": "70fdeba8c3400c23318ee7b4642537dd",
     "grade": false,
     "grade_id": "divers_fcts",
     "locked": false,
     "schema_version": 3,
     "solution": true,
     "task": false
    }
   },
   "outputs": [],
   "source": [
    "def decompte(L) :\n",
    "    \"\"\"\n",
    "    decompte(L:liste)->entier\n",
    "    \"\"\"\n",
    "    # VOTRE CODE\n",
    "    \n",
    "def moyenne(L) :\n",
    "    \"\"\"\n",
    "    decompte(L:liste)->flottant\n",
    "    \"\"\"\n",
    "    # VOTRE CODE\n",
    "    \n",
    "def mediane(L) :\n",
    "    \"\"\"\n",
    "    decompte(L:liste)->floattant ou entier (suivant les valeurs de L)\n",
    "    \"\"\"\n",
    "    # VOTRE CODE"
   ]
  },
  {
   "cell_type": "code",
   "execution_count": null,
   "id": "306ac3cf",
   "metadata": {
    "deletable": false,
    "editable": false,
    "nbgrader": {
     "cell_type": "code",
     "checksum": "bd563fe50d3f382d2391029f633991cb",
     "grade": true,
     "grade_id": "rep_divers_fcts_1",
     "locked": true,
     "points": 1,
     "schema_version": 3,
     "solution": false,
     "task": false
    }
   },
   "outputs": [],
   "source": [
    "# Cellule de vérification (ne pas modifier)"
   ]
  },
  {
   "cell_type": "code",
   "execution_count": null,
   "id": "e3fb4072",
   "metadata": {
    "deletable": false,
    "editable": false,
    "nbgrader": {
     "cell_type": "code",
     "checksum": "3c962fbe04806c3d8b7ce857c3f39426",
     "grade": true,
     "grade_id": "rep_divers_fcts_2",
     "locked": true,
     "points": 1,
     "schema_version": 3,
     "solution": false,
     "task": false
    }
   },
   "outputs": [],
   "source": [
    "# Cellule de vérification (ne pas modifier)"
   ]
  },
  {
   "cell_type": "code",
   "execution_count": null,
   "id": "1fc62fe2",
   "metadata": {
    "deletable": false,
    "editable": false,
    "nbgrader": {
     "cell_type": "code",
     "checksum": "0ad1599b13a9aef9694408d02ddffea0",
     "grade": true,
     "grade_id": "rep_divers_fcts_3",
     "locked": true,
     "points": 1,
     "schema_version": 3,
     "solution": false,
     "task": false
    }
   },
   "outputs": [],
   "source": [
    "# Cellule de vérification (ne pas modifier)"
   ]
  },
  {
   "cell_type": "markdown",
   "id": "6c9dbe64",
   "metadata": {
    "deletable": false,
    "editable": false,
    "nbgrader": {
     "cell_type": "markdown",
     "checksum": "d554a5bced17e316af12b9bd7af8c382",
     "grade": false,
     "grade_id": "cell-98271c3dbf1608d0",
     "locked": true,
     "schema_version": 3,
     "solution": false,
     "task": false
    }
   },
   "source": [
    "Vous pouvez tester vos fonctions sur la liste `Liste_score` ci-dessous et comparer aux résultats du tableau résumé :"
   ]
  },
  {
   "cell_type": "code",
   "execution_count": null,
   "id": "080f79ff",
   "metadata": {},
   "outputs": [],
   "source": [
    "# cellule de travail\n",
    "Liste_scores = list(data_monde['Score de bonheur'])\n"
   ]
  },
  {
   "cell_type": "markdown",
   "id": "0c42c793",
   "metadata": {
    "deletable": false,
    "editable": false,
    "nbgrader": {
     "cell_type": "markdown",
     "checksum": "6053c6b4b103e4b37a83c617d834668a",
     "grade": false,
     "grade_id": "cell-6600a4dae97a93c9",
     "locked": true,
     "schema_version": 3,
     "solution": false,
     "task": false
    }
   },
   "source": [
    "Calculez dans les cellules suivantes, pour les 3 formes d'importation du module, la déviation standard des éléments de la liste `Liste_scores` en utilisant la fonction `stdev` du module `statistics`.<br>\n",
    "Il s'agit d'évaluer directement l'expresion (le nombre dois s'afficher sous la cellule sans utiliser de `print`)."
   ]
  },
  {
   "cell_type": "code",
   "execution_count": null,
   "id": "1d86a34a",
   "metadata": {
    "deletable": false,
    "nbgrader": {
     "cell_type": "code",
     "checksum": "207b932718c212b7211b91d774a4788d",
     "grade": false,
     "grade_id": "module_1",
     "locked": false,
     "schema_version": 3,
     "solution": true,
     "task": false
    }
   },
   "outputs": [],
   "source": [
    "# première forme d'importation\n",
    "import statistics\n",
    "# VOTRE CODE"
   ]
  },
  {
   "cell_type": "code",
   "execution_count": null,
   "id": "fb4a7a44",
   "metadata": {
    "deletable": false,
    "editable": false,
    "nbgrader": {
     "cell_type": "code",
     "checksum": "83297f343496338336329a863d274d48",
     "grade": true,
     "grade_id": "rep_module_1",
     "locked": true,
     "points": 1,
     "schema_version": 3,
     "solution": false,
     "task": false
    }
   },
   "outputs": [],
   "source": [
    "# Cellule de vérification (ne pas modifier)"
   ]
  },
  {
   "cell_type": "code",
   "execution_count": null,
   "id": "36315bfb",
   "metadata": {
    "deletable": false,
    "nbgrader": {
     "cell_type": "code",
     "checksum": "a40475871fd3043eea05d476b20a8199",
     "grade": false,
     "grade_id": "module_2",
     "locked": false,
     "schema_version": 3,
     "solution": true,
     "task": false
    }
   },
   "outputs": [],
   "source": [
    "# deuxième forme d'importation\n",
    "from statistics import *\n",
    "# Rq : on évite le plus souvent ce type d'importation qui peut générer des conflits de définition.\n",
    "# VOTRE CODE"
   ]
  },
  {
   "cell_type": "code",
   "execution_count": null,
   "id": "00df0309",
   "metadata": {
    "deletable": false,
    "editable": false,
    "nbgrader": {
     "cell_type": "code",
     "checksum": "95517247b63a1338f11ea182147f3f1b",
     "grade": true,
     "grade_id": "rep_module_2",
     "locked": true,
     "points": 1,
     "schema_version": 3,
     "solution": false,
     "task": false
    }
   },
   "outputs": [],
   "source": [
    "# Cellule de vérification (ne pas modifier)"
   ]
  },
  {
   "cell_type": "code",
   "execution_count": null,
   "id": "9b403d6a",
   "metadata": {
    "deletable": false,
    "nbgrader": {
     "cell_type": "code",
     "checksum": "f11c715e40114c77319062cd1557485f",
     "grade": false,
     "grade_id": "module_3",
     "locked": false,
     "schema_version": 3,
     "solution": true,
     "task": false
    }
   },
   "outputs": [],
   "source": [
    "# troisième forme d'importation\n",
    "import statistics as st\n",
    "# C'est la forme la plus pratique si le module est souvent utilisé\n",
    "# VOTRE CODE"
   ]
  },
  {
   "cell_type": "code",
   "execution_count": null,
   "id": "838e0297",
   "metadata": {
    "deletable": false,
    "editable": false,
    "nbgrader": {
     "cell_type": "code",
     "checksum": "72eee73f27a96505e2bd4626e331049a",
     "grade": true,
     "grade_id": "rep_module_3",
     "locked": true,
     "points": 1,
     "schema_version": 3,
     "solution": false,
     "task": false
    }
   },
   "outputs": [],
   "source": [
    "# Cellule de vérification (ne pas modifier)"
   ]
  },
  {
   "cell_type": "markdown",
   "id": "726d812d",
   "metadata": {
    "deletable": false,
    "editable": false,
    "nbgrader": {
     "cell_type": "markdown",
     "checksum": "b216ed28cf72588311f754dbf4eb0f77",
     "grade": false,
     "grade_id": "cell-0e53196bd2f2d4ef",
     "locked": true,
     "schema_version": 3,
     "solution": false,
     "task": false
    }
   },
   "source": [
    "Tracons maintenant un diagramme en batons des scores de bonheur des 60 premiers pays."
   ]
  },
  {
   "cell_type": "code",
   "execution_count": null,
   "id": "f4808035",
   "metadata": {},
   "outputs": [],
   "source": [
    "fig,ax = plt.subplots(figsize=(20,4))\n",
    "sns.barplot(ax = ax,x = data_monde.index[:60], y = data_monde['Score de bonheur'].head(60))\n",
    "plt.xticks(rotation=90)\n",
    "ax.set_xlabel('')"
   ]
  },
  {
   "cell_type": "markdown",
   "id": "f974e3b7",
   "metadata": {
    "deletable": false,
    "editable": false,
    "nbgrader": {
     "cell_type": "markdown",
     "checksum": "8c9ecb75b54d14638d62f5a855ab36c4",
     "grade": false,
     "grade_id": "cell-78e6d75bead95ae9",
     "locked": true,
     "schema_version": 3,
     "solution": false,
     "task": false
    }
   },
   "source": [
    "On remarque que les pays sont classés par score de bonheur décroissant dans le jeu de données d'origine.<br>\n",
    "Mais on peut évidemment choisir un autre critère de classement si on le désire :"
   ]
  },
  {
   "cell_type": "code",
   "execution_count": null,
   "id": "72c9b726",
   "metadata": {
    "deletable": false,
    "editable": false,
    "nbgrader": {
     "cell_type": "code",
     "checksum": "12d73735385ac4fd9867bce2cf9135e4",
     "grade": false,
     "grade_id": "cell-0434b54ba5aed946",
     "locked": true,
     "schema_version": 3,
     "solution": false,
     "task": false
    }
   },
   "outputs": [],
   "source": [
    "data_monde.sort_values(by=\"PIB par habitant (log)\",ascending=True).head(10)"
   ]
  },
  {
   "cell_type": "code",
   "execution_count": null,
   "id": "fc38f565",
   "metadata": {
    "deletable": false,
    "editable": false,
    "nbgrader": {
     "cell_type": "code",
     "checksum": "1814283fc116f7dedfe7498a52bd3d72",
     "grade": false,
     "grade_id": "cell-ea6641c652cb7b2a",
     "locked": true,
     "schema_version": 3,
     "solution": false,
     "task": false
    }
   },
   "outputs": [],
   "source": [
    "data_monde.sort_values(by=\"Corruption perçue\",ascending=False).head()"
   ]
  },
  {
   "cell_type": "code",
   "execution_count": null,
   "id": "5cbef2a3",
   "metadata": {
    "deletable": false,
    "editable": false,
    "nbgrader": {
     "cell_type": "code",
     "checksum": "b31aa4e5515b33c3e7e10fd500e2c95b",
     "grade": false,
     "grade_id": "cell-71f94cb143ac36be",
     "locked": true,
     "schema_version": 3,
     "solution": false,
     "task": false
    }
   },
   "outputs": [],
   "source": [
    "data_monde.sort_values(by=\"Générosité\",ascending=False).iloc[[45]]"
   ]
  },
  {
   "cell_type": "markdown",
   "id": "f92ba711",
   "metadata": {
    "deletable": false,
    "editable": false,
    "nbgrader": {
     "cell_type": "markdown",
     "checksum": "e030594258e2eca09a082d06c4c154a3",
     "grade": false,
     "grade_id": "cell-b56e675dc9903f72",
     "locked": true,
     "schema_version": 3,
     "solution": false,
     "task": false
    }
   },
   "source": [
    "D'après la cellule précédente, le 46<sup>e</sup> (le 1<sup>er</sup> est à l'indice 0) meilleur score de générosité appartient au Danemark.\n",
    "\n",
    "Quel pays correspond à la 59<sup>e</sup> plus courte espérance de vie en bonne santé ?"
   ]
  },
  {
   "cell_type": "code",
   "execution_count": null,
   "id": "8bace726",
   "metadata": {},
   "outputs": [],
   "source": [
    "# Cellule de travail\n"
   ]
  },
  {
   "cell_type": "code",
   "execution_count": null,
   "id": "40c0e337",
   "metadata": {},
   "outputs": [],
   "source": [
    "# Remplacer 'France' par la bonne réponse (garder l'orthographe anglaise identique au jeu de données)\n",
    "nom_pays = 'France'"
   ]
  },
  {
   "cell_type": "code",
   "execution_count": null,
   "id": "b05f99bc",
   "metadata": {
    "deletable": false,
    "editable": false,
    "nbgrader": {
     "cell_type": "code",
     "checksum": "d02a95373453fe790a2540900330ae81",
     "grade": true,
     "grade_id": "rep_nom_pays",
     "locked": true,
     "points": 1,
     "schema_version": 3,
     "solution": false,
     "task": false
    }
   },
   "outputs": [],
   "source": [
    "# Cellule de vérification (ne pas modifier)"
   ]
  },
  {
   "cell_type": "markdown",
   "id": "c2347152",
   "metadata": {},
   "source": [
    "On peut aussi aisément filtrer le jeu de données en fonction de n'importe quel critère :"
   ]
  },
  {
   "cell_type": "code",
   "execution_count": null,
   "id": "7a9e0733",
   "metadata": {},
   "outputs": [],
   "source": [
    "data_monde[(data_monde[\"Espérance de vie en bonne santé\"]>60) & (data_monde[\"Espérance de vie en bonne santé\"]<62)]\n",
    "# Rq : pandas nécessite les opérateurs logiques bit à bit '&' (et) et '|' (ou) \n",
    "# plutôt que les opérateurs élément par élément 'and' et 'or' qui lèveraient une erreur."
   ]
  },
  {
   "cell_type": "markdown",
   "id": "26ec392f",
   "metadata": {
    "deletable": false,
    "editable": false,
    "nbgrader": {
     "cell_type": "markdown",
     "checksum": "fefbcc7e431f8effa2c9c3d20076e5ec",
     "grade": false,
     "grade_id": "cell-4266d26970527e78",
     "locked": true,
     "schema_version": 3,
     "solution": false,
     "task": false
    }
   },
   "source": [
    "Quel pays possède un score de bonheur inférieur à 5 malgré une valeur de corruption perçue inférieure à 0.5 ?"
   ]
  },
  {
   "cell_type": "code",
   "execution_count": null,
   "id": "2060b500",
   "metadata": {},
   "outputs": [],
   "source": [
    "# Remplacer 'France' par la bonne réponse (garder l'orthographe anglaise identique au jeu de données)\n",
    "nom_pays = 'France'"
   ]
  },
  {
   "cell_type": "code",
   "execution_count": null,
   "id": "dc101369",
   "metadata": {
    "deletable": false,
    "editable": false,
    "nbgrader": {
     "cell_type": "code",
     "checksum": "403f2759c8fb9ebbf601d5a6449ab3de",
     "grade": true,
     "grade_id": "rep_pays_2",
     "locked": true,
     "points": 1,
     "schema_version": 3,
     "solution": false,
     "task": false
    }
   },
   "outputs": [],
   "source": [
    "# Cellule de vérification (ne pas modifier)"
   ]
  },
  {
   "cell_type": "markdown",
   "id": "7abaf4db",
   "metadata": {
    "deletable": false,
    "editable": false,
    "nbgrader": {
     "cell_type": "markdown",
     "checksum": "30bde41a55dde8d838c6d82f3e18543d",
     "grade": false,
     "grade_id": "cell-bc92055fe71b428f",
     "locked": true,
     "schema_version": 3,
     "solution": false,
     "task": false
    }
   },
   "source": [
    "Pour chaque variable mesurée (chaque colonne), on peut facilement tracer des histogrammes illustrant la répartition des valeurs."
   ]
  },
  {
   "cell_type": "code",
   "execution_count": null,
   "id": "24e7c48f",
   "metadata": {},
   "outputs": [],
   "source": [
    "sns.displot(data_monde, x=\"Score de bonheur\", bins=20,  kde=True, height=4, aspect=3)\n",
    "# bins contrôle le nombre de classes"
   ]
  },
  {
   "cell_type": "markdown",
   "id": "edab25a7",
   "metadata": {},
   "source": [
    "On peut aussi tirer profit de l'interactivité pour obtenir les informations voulues directement en survolant le graphe.\n",
    "\n",
    "On utilise pour cela la bibliothèque `Plotly express` qui sait (comme seaborn) parler à une dataframe pandas.<br>\n",
    "On peut zoomer sur ces graphiques interactifs et obtenir des informations en survolant avec le curseur."
   ]
  },
  {
   "cell_type": "code",
   "execution_count": null,
   "id": "77c32360",
   "metadata": {},
   "outputs": [],
   "source": [
    "px.histogram(data_monde,'Corruption perçue',nbins=40,title=\"Corruption perçue\")\n",
    "# Cette fois-ci, le nombre de classes est désigné par nbins."
   ]
  },
  {
   "cell_type": "markdown",
   "id": "84af8306",
   "metadata": {
    "deletable": false,
    "editable": false,
    "nbgrader": {
     "cell_type": "markdown",
     "checksum": "97636851d59d64b9ef72a4db4ecde20e",
     "grade": false,
     "grade_id": "cell-4f8a36689d439ea0",
     "locked": true,
     "schema_version": 3,
     "solution": false,
     "task": false
    }
   },
   "source": [
    "Modifez le graphe précedent pour répondre à cette question : combien la classe la plus peuplée de l'histogramme de l'espérence de vie en bonne santé compte-elle de valeurs si l'histogramme comporte 30 classes ?"
   ]
  },
  {
   "cell_type": "code",
   "execution_count": null,
   "id": "e3e1dbe7",
   "metadata": {},
   "outputs": [],
   "source": [
    "# notez votre réponse (sous la forme d'un entier)\n",
    "nb_valeurs ="
   ]
  },
  {
   "cell_type": "code",
   "execution_count": null,
   "id": "029fce2c",
   "metadata": {
    "deletable": false,
    "editable": false,
    "nbgrader": {
     "cell_type": "code",
     "checksum": "8443283376a8bde4afedab825fc93e0e",
     "grade": true,
     "grade_id": "rep_nb_valeurs",
     "locked": true,
     "points": 1,
     "schema_version": 3,
     "solution": false,
     "task": false
    }
   },
   "outputs": [],
   "source": [
    "# Cellule de vérification (ne pas modifier)"
   ]
  },
  {
   "cell_type": "markdown",
   "id": "c6205cc4",
   "metadata": {
    "deletable": false,
    "editable": false,
    "nbgrader": {
     "cell_type": "markdown",
     "checksum": "a588385274d822c75457d2954cac6c38",
     "grade": false,
     "grade_id": "cell-99c918d9e109f030",
     "locked": true,
     "schema_version": 3,
     "solution": false,
     "task": false
    }
   },
   "source": [
    "On peut aussi récupérer les données d'un pays en particulier :"
   ]
  },
  {
   "cell_type": "code",
   "execution_count": null,
   "id": "e87c90fd",
   "metadata": {},
   "outputs": [],
   "source": [
    "data_monde.loc['France']"
   ]
  },
  {
   "cell_type": "markdown",
   "id": "cdb57bea",
   "metadata": {
    "deletable": false,
    "editable": false,
    "nbgrader": {
     "cell_type": "markdown",
     "checksum": "9a16c2928ff265873253bddbee490500",
     "grade": false,
     "grade_id": "cell-cec347cd3a701d2b",
     "locked": true,
     "schema_version": 3,
     "solution": false,
     "task": false
    }
   },
   "source": [
    "### Regroupement des données"
   ]
  },
  {
   "cell_type": "markdown",
   "id": "b2d911f0",
   "metadata": {
    "deletable": false,
    "editable": false,
    "nbgrader": {
     "cell_type": "markdown",
     "checksum": "fffb6e4553989dd8fca91a1fadd48ca5",
     "grade": false,
     "grade_id": "cell-4574f1cf8a7bffce",
     "locked": true,
     "schema_version": 3,
     "solution": false,
     "task": false
    }
   },
   "source": [
    "On remarque que le jeu de données contient une colonne catégorielle : \"Région du monde\".<br> Cela va nous permettre d'explorer de possibles dynamiques régionales : est-ce que les pays d'une même zone ont des indicateurs semblables ?"
   ]
  },
  {
   "cell_type": "code",
   "execution_count": null,
   "id": "c65a3281",
   "metadata": {
    "deletable": false,
    "editable": false,
    "nbgrader": {
     "cell_type": "code",
     "checksum": "3a2abe0bb5b523e210b7300d62fb15c8",
     "grade": false,
     "grade_id": "cell-6fff41d658b4fe5c",
     "locked": true,
     "schema_version": 3,
     "solution": false,
     "task": false
    }
   },
   "outputs": [],
   "source": [
    "pd.unique(data_monde[\"Région du monde\"]) # permet d'afficher une seule fois chacune des valeurs différentes de la colonne"
   ]
  },
  {
   "cell_type": "markdown",
   "id": "b8666648",
   "metadata": {
    "deletable": false,
    "editable": false,
    "nbgrader": {
     "cell_type": "markdown",
     "checksum": "16b25dac5d9c8d9416493006423590fc",
     "grade": false,
     "grade_id": "cell-9738e80275ee821a",
     "locked": true,
     "schema_version": 3,
     "solution": false,
     "task": false
    }
   },
   "source": [
    "Traçons des diagrammes en boîte à moustaches représentant les scores de bonheur pour chacune des régions.<br>\n",
    "À nouveau Seaborn rend cela très simple..."
   ]
  },
  {
   "cell_type": "code",
   "execution_count": null,
   "id": "35a56b12",
   "metadata": {},
   "outputs": [],
   "source": [
    "sns.set_style(\"white\")\n",
    "fig, ax = plt.subplots(figsize=(12,8))\n",
    "sns.boxplot(ax = ax, x=\"Score de bonheur\", y=\"Région du monde\", palette=\"husl\", data=data_monde)\n",
    "sns.despine(offset=10, trim=True)\n",
    "ax.set_ylabel('')"
   ]
  },
  {
   "cell_type": "markdown",
   "id": "0aa9ae29",
   "metadata": {
    "deletable": false,
    "editable": false,
    "nbgrader": {
     "cell_type": "markdown",
     "checksum": "53dabc71e6fecb5cc73c3cae7fffd430",
     "grade": false,
     "grade_id": "cell-df16940be81d1b39",
     "locked": true,
     "schema_version": 3,
     "solution": false,
     "task": false
    }
   },
   "source": [
    "Traçons maintenant un graphe plus général représentant toutes les relations possibles entre deux axes du jeu de données pour voir si certaines combinaisons discriminent plus nettement les différentes régions."
   ]
  },
  {
   "cell_type": "code",
   "execution_count": null,
   "id": "64174326",
   "metadata": {},
   "outputs": [],
   "source": [
    "# Un peu long à s'exécuter (environ 30 s)\n",
    "g = sns.pairplot(data_monde, hue=\"Région du monde\", corner=True)\n",
    "g._legend.set_bbox_to_anchor((0.6, 0.8))"
   ]
  },
  {
   "cell_type": "markdown",
   "id": "40322d6c",
   "metadata": {
    "deletable": false,
    "editable": false,
    "nbgrader": {
     "cell_type": "markdown",
     "checksum": "74a8c8dcd32be7b2ef46bc5646031945",
     "grade": false,
     "grade_id": "cell-47264c9249fe391e",
     "locked": true,
     "schema_version": 3,
     "solution": false,
     "task": false
    }
   },
   "source": [
    "On constate que les groupes régionaux sont relativement homogènes pour la plupart des critères.\n",
    "\n",
    "Zoomons sur un de ces graphes :"
   ]
  },
  {
   "cell_type": "code",
   "execution_count": null,
   "id": "c8d2ef1c",
   "metadata": {},
   "outputs": [],
   "source": [
    "sns.set_style(\"whitegrid\")\n",
    "sns.jointplot(data=data_monde,x=\"PIB par habitant (log)\", y=\"Score de bonheur\", hue=\"Région du monde\", kind='scatter', height=8, legend=False)"
   ]
  },
  {
   "cell_type": "markdown",
   "id": "a6659e92",
   "metadata": {
    "deletable": false,
    "editable": false,
    "nbgrader": {
     "cell_type": "markdown",
     "checksum": "a44cf035af8f52aee751e94439e7d027",
     "grade": false,
     "grade_id": "cell-62dc84f11826d627",
     "locked": true,
     "schema_version": 3,
     "solution": false,
     "task": false
    }
   },
   "source": [
    "Une version interactive du même graphique permet de consulter les informations pour chaque point :"
   ]
  },
  {
   "cell_type": "code",
   "execution_count": null,
   "id": "1ea29744",
   "metadata": {},
   "outputs": [],
   "source": [
    "px.scatter(data_monde,x='PIB par habitant (log)', y='Score de bonheur', hover_name=data_monde.index, color='Région du monde')"
   ]
  },
  {
   "cell_type": "markdown",
   "id": "3f1c9cb4",
   "metadata": {
    "deletable": false,
    "editable": false,
    "nbgrader": {
     "cell_type": "markdown",
     "checksum": "6d82525da5fff374fb251c82728acd24",
     "grade": false,
     "grade_id": "cell-c34d39e9aec8039a",
     "locked": true,
     "schema_version": 3,
     "solution": false,
     "task": false
    }
   },
   "source": [
    "Trouver la région du monde représentée sur le graphe suivant.\n",
    "<img src=\"http://cordier-phychi.toile-libre.org/Info/images/graphemystere.png\" width=\"600\"/>"
   ]
  },
  {
   "cell_type": "code",
   "execution_count": null,
   "id": "609ea484",
   "metadata": {},
   "outputs": [],
   "source": [
    "# notez votre réponse ci-dessous sous la forme d'une chaîne de caractères identique à celles du jeu de données\n",
    "région = '...'"
   ]
  },
  {
   "cell_type": "code",
   "execution_count": null,
   "id": "73519a8d",
   "metadata": {
    "deletable": false,
    "editable": false,
    "nbgrader": {
     "cell_type": "code",
     "checksum": "87474938a06cf175dda294b0cff6556a",
     "grade": true,
     "grade_id": "rep_region",
     "locked": true,
     "points": 1,
     "schema_version": 3,
     "solution": false,
     "task": false
    }
   },
   "outputs": [],
   "source": [
    "# Cellule de vérification (ne pas modifier)"
   ]
  },
  {
   "cell_type": "markdown",
   "id": "30521d00",
   "metadata": {
    "deletable": false,
    "editable": false,
    "nbgrader": {
     "cell_type": "markdown",
     "checksum": "1452263914c3861659994c9d013aab4d",
     "grade": false,
     "grade_id": "cell-235b4c963745da6e",
     "locked": true,
     "schema_version": 3,
     "solution": false,
     "task": false
    }
   },
   "source": [
    "Allons maintenant au-delà de la proximité géographique pour regrouper les pays en 3 grands blocs socioéconomiques : \"Nord\", \"Sud\", \"Intermédiaire\"."
   ]
  },
  {
   "cell_type": "code",
   "execution_count": null,
   "id": "2825ca22",
   "metadata": {
    "deletable": false,
    "editable": false,
    "nbgrader": {
     "cell_type": "code",
     "checksum": "2b8dc7c00d150f16a43042f6628b1056",
     "grade": false,
     "grade_id": "cell-56914604bed799f1",
     "locked": true,
     "schema_version": 3,
     "solution": false,
     "task": false
    }
   },
   "outputs": [],
   "source": [
    "conditions = [(data_monde['Région du monde'] == 'Western Europe') | (data_monde['Région du monde'] == 'North America and ANZ'),(data_monde['Région du monde'] == 'South Asia') | (data_monde['Région du monde'] == 'Sub-Saharan Africa')]\n",
    "choices = ['\"Nord\"', '\"Sud\"']\n",
    "data_monde['Groupe'] = np.select(conditions, choices, default='Autres')\n",
    "deux_gpes = data_monde[data_monde[\"Groupe\"].isin(['\"Nord\"','\"Sud\"'])]"
   ]
  },
  {
   "cell_type": "code",
   "execution_count": null,
   "id": "2256403b",
   "metadata": {
    "deletable": false,
    "editable": false,
    "nbgrader": {
     "cell_type": "code",
     "checksum": "e39ea86e5218f6da48b416220010e99f",
     "grade": false,
     "grade_id": "cell-21bda5a1b0a10211",
     "locked": true,
     "schema_version": 3,
     "solution": false,
     "task": false
    }
   },
   "outputs": [],
   "source": [
    "# Un peu long à s'exécuter (environ 30 s)\n",
    "sns.set_style(\"white\")\n",
    "g = sns.PairGrid(data_monde, diag_sharey=False, hue=\"Groupe\")\n",
    "g.map_upper(sns.scatterplot)\n",
    "g.map_lower(sns.kdeplot,common_norm=False)\n",
    "g.map_diag(sns.histplot,bins=20,kde=True)\n",
    "g.add_legend(title=\"Grands groupes\",adjust_subtitles=True)"
   ]
  },
  {
   "cell_type": "markdown",
   "id": "7b00f77e",
   "metadata": {
    "deletable": false,
    "editable": false,
    "nbgrader": {
     "cell_type": "markdown",
     "checksum": "e8262323a73792b290d00541236d8ade",
     "grade": false,
     "grade_id": "cell-d55946dd8e8bd16f",
     "locked": true,
     "schema_version": 3,
     "solution": false,
     "task": false
    }
   },
   "source": [
    "### Corrélations"
   ]
  },
  {
   "cell_type": "markdown",
   "id": "8b82f136",
   "metadata": {
    "deletable": false,
    "editable": false,
    "nbgrader": {
     "cell_type": "markdown",
     "checksum": "b55929e397dbe1824d95f17366692a1e",
     "grade": false,
     "grade_id": "cell-2c247684b325808f",
     "locked": true,
     "schema_version": 3,
     "solution": false,
     "task": false
    }
   },
   "source": [
    "Les graphiques précédents mettent en évidence des corrélations assez fortes entre certaines grandeurs.<br>\n",
    "Creusons un peu."
   ]
  },
  {
   "cell_type": "code",
   "execution_count": null,
   "id": "2d8fe38c",
   "metadata": {},
   "outputs": [],
   "source": [
    "g = sns.PairGrid(data_monde, y_vars=[\"Score de bonheur\"], x_vars=[\"PIB par habitant (log)\", \"Corruption perçue\"], height=7, aspect=1.5)\n",
    "g.map(sns.regplot)"
   ]
  },
  {
   "cell_type": "markdown",
   "id": "385d6c1e",
   "metadata": {
    "deletable": false,
    "editable": false,
    "nbgrader": {
     "cell_type": "markdown",
     "checksum": "ed6e9ad010f160f714809a03ddc8e207",
     "grade": false,
     "grade_id": "cell-3b4fbbe9f04e8810",
     "locked": true,
     "schema_version": 3,
     "solution": false,
     "task": false
    }
   },
   "source": [
    "On constate sur cet exemple que le score de bonheur est corrélé positivement avec le PIB par habitant et négativement avec le degré de corruption perçue.\n",
    "\n",
    "Pour avoir un panorama complet, traçons la matrice de corrélation donnant, pour chaque couple de variable, la valeur du coefficient de corrélation $r$ (valeur entre -1 et 1 traduisant le degré de dépendance linéaire entre deux variables) :"
   ]
  },
  {
   "cell_type": "code",
   "execution_count": null,
   "id": "280e1db9",
   "metadata": {
    "deletable": false,
    "editable": false,
    "nbgrader": {
     "cell_type": "code",
     "checksum": "381942444dec4ca32da1b5df29bf34d3",
     "grade": false,
     "grade_id": "cell-95a28d8afb9d1795",
     "locked": true,
     "schema_version": 3,
     "solution": false,
     "task": false
    }
   },
   "outputs": [],
   "source": [
    "fig, ax = plt.subplots(figsize=(12,10))   \n",
    "cmap = sns.diverging_palette(0, 230, 90, 60, as_cmap=True).reversed() # choix de la palette de couleurs\n",
    "sns.heatmap(data_monde.iloc[:,1:].corr(), cmap=cmap, center=0, annot=True, fmt=\".2f\", linewidth = 0.5, ax=ax)"
   ]
  },
  {
   "cell_type": "code",
   "execution_count": null,
   "id": "ace437bf",
   "metadata": {},
   "outputs": [],
   "source": [
    "from sklearn.decomposition import PCA\n",
    "from sklearn.preprocessing import StandardScaler\n",
    "from sklearn.cluster import KMeans"
   ]
  },
  {
   "cell_type": "code",
   "execution_count": null,
   "id": "afdf0e34",
   "metadata": {},
   "outputs": [],
   "source": [
    "variables = data_monde.columns.values[1:-1]\n",
    "scaler = StandardScaler()\n",
    "X = scaler.fit_transform(data_monde[variables])"
   ]
  },
  {
   "cell_type": "code",
   "execution_count": null,
   "id": "25cb9b92",
   "metadata": {},
   "outputs": [],
   "source": [
    "pca = PCA()\n",
    "components = pca.fit_transform(X)"
   ]
  },
  {
   "cell_type": "code",
   "execution_count": null,
   "id": "1e819083",
   "metadata": {},
   "outputs": [],
   "source": [
    "exp_var_cumul = np.cumsum(pca.explained_variance_ratio_)\n",
    "fig = px.bar(x=range(1, exp_var_cumul.shape[0] + 1),y=pca.explained_variance_ratio_,labels={\"x\": \"composante\", \"y\": \"% variance expliquée\"},template=\"none\")\n",
    "fig.add_scatter(x=list(range(1, exp_var_cumul.shape[0] + 1)), y=exp_var_cumul, name=\"\", showlegend=False)"
   ]
  },
  {
   "cell_type": "code",
   "execution_count": null,
   "id": "1ca463db",
   "metadata": {},
   "outputs": [],
   "source": [
    "pca = PCA(n_components = 3)\n",
    "pca.fit(X)\n",
    "score_pca = pca.transform(X)"
   ]
  },
  {
   "cell_type": "code",
   "execution_count": null,
   "id": "ea3928f5",
   "metadata": {},
   "outputs": [],
   "source": [
    "wcss = []\n",
    "for i in range(1,21) :\n",
    "    kmeans_pca = KMeans(n_clusters = i, init = 'k-means++', random_state=42)\n",
    "    kmeans_pca.fit(score_pca)\n",
    "    wcss.append(kmeans_pca.inertia_)\n",
    "px.line(x=range(1,21),y=wcss)"
   ]
  },
  {
   "cell_type": "markdown",
   "id": "5b39124a",
   "metadata": {},
   "source": [
    "Partition en K classes."
   ]
  },
  {
   "cell_type": "code",
   "execution_count": null,
   "id": "b6c37df3",
   "metadata": {},
   "outputs": [],
   "source": [
    "kmeans_pca = KMeans(n_clusters=3,init='k-means++',random_state=42)\n",
    "kmeans_pca.fit(score_pca)\n",
    "data_monde[[\"composante 1\",\"composante 2\",\"composante 3\"]] = pd.DataFrame(score_pca, index=data_monde.index)\n",
    "data_monde[\"Classes\"]=kmeans_pca.labels_.astype(str)\n",
    "data_monde.head()"
   ]
  },
  {
   "cell_type": "code",
   "execution_count": null,
   "id": "39b99ffa",
   "metadata": {},
   "outputs": [],
   "source": [
    "data_monde[\"Classes\"].dtypes"
   ]
  },
  {
   "cell_type": "code",
   "execution_count": null,
   "id": "0ebe6d43",
   "metadata": {},
   "outputs": [],
   "source": [
    "fig = px.scatter(data_monde,x='composante 1',y='composante 2',color='Classes',text=data_monde.index)\n",
    "fig.update_traces(textposition='top right',textfont_size=8)\n",
    "fig.update_layout(uniformtext_minsize=5, uniformtext_mode='hide')\n",
    "labels = {str(i): f\"PC {i+1} ({var:.1f}%)\" for i, var in enumerate(pca.explained_variance_ratio_ * 100)}"
   ]
  },
  {
   "cell_type": "code",
   "execution_count": null,
   "id": "d119a8e4",
   "metadata": {},
   "outputs": [],
   "source": [
    "fig = px.scatter_matrix(components,labels=labels,dimensions=range(3),color=data_monde[\"Classes\"])\n",
    "fig.update_traces(diagonal_visible=False)"
   ]
  },
  {
   "cell_type": "code",
   "execution_count": null,
   "id": "87eaa45e",
   "metadata": {},
   "outputs": [],
   "source": [
    "pca = PCA(n_components=2)\n",
    "components = pca.fit_transform(data_monde[variables])\n",
    "loadings = pca.components_.T * np.sqrt(pca.explained_variance_)\n",
    "fig = px.scatter(components, x=0, y=1, color=data_monde['Groupe'])\n",
    "for i, variable in enumerate(variables): \n",
    "    fig.add_shape(type='line',x0=0, y0=0,x1=loadings[i, 0],y1=loadings[i, 1])\n",
    "    fig.add_annotation(x=loadings[i, 0],y=loadings[i, 1],ax=0, ay=0,xanchor=\"center\",yanchor=\"bottom\",text=variable)\n",
    "fig"
   ]
  },
  {
   "cell_type": "markdown",
   "id": "dfcadbd3",
   "metadata": {
    "deletable": false,
    "editable": false,
    "nbgrader": {
     "cell_type": "markdown",
     "checksum": "61a677315a86121faf0a03a5ec3d5a73",
     "grade": false,
     "grade_id": "cell-5f8da6441a740fd1",
     "locked": true,
     "schema_version": 3,
     "solution": false,
     "task": false
    }
   },
   "source": [
    "### Représentation géographique"
   ]
  },
  {
   "cell_type": "code",
   "execution_count": null,
   "id": "7be1ce12",
   "metadata": {
    "deletable": false,
    "editable": false,
    "nbgrader": {
     "cell_type": "code",
     "checksum": "99b416a9d6b972d55e4d0e8750e48a82",
     "grade": false,
     "grade_id": "cell-03ce143e40d695df",
     "locked": true,
     "schema_version": 3,
     "solution": false,
     "task": false
    }
   },
   "outputs": [],
   "source": [
    "# Installations utiles à Geopandas\n",
    "!apt install gdal-bin python-gdal python3-gdal \n",
    "!apt install python3-rtree \n",
    "# Geopandas (permet de traiter les données géographiques dans une dataframe pandas)\n",
    "!pip install -q git+git://github.com/geopandas/geopandas.git\n",
    "# Autres packages nécessaires à Geopandas\n",
    "!pip install -q contextily\n",
    "!pip install -q mapclassify"
   ]
  },
  {
   "cell_type": "code",
   "execution_count": null,
   "id": "1e0bb1bd",
   "metadata": {
    "deletable": false,
    "editable": false,
    "nbgrader": {
     "cell_type": "code",
     "checksum": "875227d36859c8e8d9d5d1ba137083bf",
     "grade": false,
     "grade_id": "cell-bb2772ee13e9baf1",
     "locked": true,
     "schema_version": 3,
     "solution": false,
     "task": false
    }
   },
   "outputs": [],
   "source": [
    "import contextily as cx\n",
    "import mapclassify\n",
    "import geopandas as gpd"
   ]
  },
  {
   "cell_type": "code",
   "execution_count": null,
   "id": "5caa6a27",
   "metadata": {
    "deletable": false,
    "editable": false,
    "nbgrader": {
     "cell_type": "code",
     "checksum": "89fa07e8e515dfa624b1c8a0706aef76",
     "grade": false,
     "grade_id": "cell-aea9768d37cf4683",
     "locked": true,
     "schema_version": 3,
     "solution": false,
     "task": false
    }
   },
   "outputs": [],
   "source": [
    "# peut être nécessaire si exécution du notebook en local (pas Colab)\n",
    "import ssl \n",
    "\n",
    "try:\n",
    "    _create_unverified_https_context = ssl._create_unverified_context\n",
    "except AttributeError:\n",
    "    pass\n",
    "else:\n",
    "    ssl._create_default_https_context = _create_unverified_https_context"
   ]
  },
  {
   "cell_type": "markdown",
   "id": "4541e642",
   "metadata": {
    "deletable": false,
    "editable": false,
    "nbgrader": {
     "cell_type": "markdown",
     "checksum": "c6e60d1b290f91a01ceebf6e4cc12e43",
     "grade": false,
     "grade_id": "cell-c1d29b30d918e7d3",
     "locked": true,
     "schema_version": 3,
     "solution": false,
     "task": false
    }
   },
   "source": [
    "On récupère un jeu de données géométrico-géographique comprenant la forme de chaque pays (ensemble de points dessinant un polygone) pour pouvoir construire une carte."
   ]
  },
  {
   "cell_type": "code",
   "execution_count": null,
   "id": "3f91591c",
   "metadata": {
    "deletable": false,
    "editable": false,
    "nbgrader": {
     "cell_type": "code",
     "checksum": "a4bf0df877ca73c35534010fad589abf",
     "grade": false,
     "grade_id": "cell-1837162143485acd",
     "locked": true,
     "schema_version": 3,
     "solution": false,
     "task": false
    }
   },
   "outputs": [],
   "source": [
    "url = \"http://opendata.arcgis.com/datasets/a21fdb46d23e4ef896f31475217cbb08_1.geojson\"\n",
    "localisation = gpd.read_file(url)"
   ]
  },
  {
   "cell_type": "code",
   "execution_count": null,
   "id": "f9752a92",
   "metadata": {
    "deletable": false,
    "editable": false,
    "nbgrader": {
     "cell_type": "code",
     "checksum": "920114b6791b4265222c4fadf045d755",
     "grade": false,
     "grade_id": "cell-d9e1eff9efc98253",
     "locked": true,
     "schema_version": 3,
     "solution": false,
     "task": false
    }
   },
   "outputs": [],
   "source": [
    "localisation.head()"
   ]
  },
  {
   "cell_type": "markdown",
   "id": "a2031b15",
   "metadata": {
    "deletable": false,
    "editable": false,
    "nbgrader": {
     "cell_type": "markdown",
     "checksum": "13af645f4b9efa782f1a36336dbe8e94",
     "grade": false,
     "grade_id": "cell-ad0878df21964830",
     "locked": true,
     "schema_version": 3,
     "solution": false,
     "task": false
    }
   },
   "source": [
    "On joint les formes géométriques à notre jeu de données originel."
   ]
  },
  {
   "cell_type": "code",
   "execution_count": null,
   "id": "342b32a3",
   "metadata": {
    "deletable": false,
    "editable": false,
    "nbgrader": {
     "cell_type": "code",
     "checksum": "82fcf956ce1e64aeb0edb32b8af7ae3e",
     "grade": false,
     "grade_id": "cell-8ec2902a9a70e939",
     "locked": true,
     "schema_version": 3,
     "solution": false,
     "task": false
    }
   },
   "outputs": [],
   "source": [
    "data_geoloc = localisation.set_index('CNTRY_NAME').join(data_monde)\n",
    "data_geoloc.head()"
   ]
  },
  {
   "cell_type": "markdown",
   "id": "73bc505d",
   "metadata": {
    "deletable": false,
    "editable": false,
    "nbgrader": {
     "cell_type": "markdown",
     "checksum": "894bc65b812978213389a09085a4173c",
     "grade": false,
     "grade_id": "cell-bf4d2af74ef69165",
     "locked": true,
     "schema_version": 3,
     "solution": false,
     "task": false
    }
   },
   "source": [
    "On retire l'Antartique et on choisit une formule de projection pour représenter la carte (le WGS 84 des GPS ici)."
   ]
  },
  {
   "cell_type": "code",
   "execution_count": null,
   "id": "998d2c8d",
   "metadata": {
    "deletable": false,
    "editable": false,
    "nbgrader": {
     "cell_type": "code",
     "checksum": "2796b9198afeec647aeb146bae69ca80",
     "grade": false,
     "grade_id": "cell-c3ee7f49f7c038d5",
     "locked": true,
     "schema_version": 3,
     "solution": false,
     "task": false
    }
   },
   "outputs": [],
   "source": [
    "monde = data_geoloc.to_crs(\"+proj=robin\")\n",
    "monde = monde[monde.index != \"Antarctica\"]"
   ]
  },
  {
   "cell_type": "code",
   "execution_count": null,
   "id": "833d23b5",
   "metadata": {
    "deletable": false,
    "editable": false,
    "nbgrader": {
     "cell_type": "code",
     "checksum": "b487a2da9f1fb5f0c41dea862e42b9c9",
     "grade": false,
     "grade_id": "cell-b5c2596e7a2a6a91",
     "locked": true,
     "schema_version": 3,
     "solution": false,
     "task": false
    }
   },
   "outputs": [],
   "source": [
    "ax = monde.plot(figsize = (30,10), alpha=0.8, column = \"Score de bonheur\", cmap = \"viridis\", legend=True, legend_kwds={\"label\":\"Score de bonheur\"},missing_kwds={'color': 'lightgrey'})\n",
    "ax.axis('off')"
   ]
  },
  {
   "cell_type": "code",
   "execution_count": null,
   "id": "f8e9dea2",
   "metadata": {},
   "outputs": [],
   "source": [
    "data_monde[\"Classes\"]=data_monde[\"Classes\"].astype(int)\n",
    "ax = monde.plot(figsize = (30,10), alpha=0.8, column = \"Classes\", cmap = \"viridis\", legend=True, missing_kwds={'color': 'lightgrey'})\n",
    "ax.axis('off')"
   ]
  },
  {
   "cell_type": "markdown",
   "id": "3273f6ef",
   "metadata": {
    "deletable": false,
    "editable": false,
    "nbgrader": {
     "cell_type": "markdown",
     "checksum": "7805f580d273e5fbfd48378d4b288f38",
     "grade": false,
     "grade_id": "cell-65eb604ffb5241a3",
     "locked": true,
     "schema_version": 3,
     "solution": false,
     "task": false
    }
   },
   "source": [
    "Fabriquons une carte régionale en ne sélectionnant que les régions du monde qui nous intéressent."
   ]
  },
  {
   "cell_type": "code",
   "execution_count": null,
   "id": "d61f286f",
   "metadata": {},
   "outputs": [],
   "source": [
    "region = data_geoloc[data_geoloc[\"Région du monde\"].isin([\"Western Europe\",\"Central and Eastern Europe\",\"Middle East and North Africa\"])]\n",
    "region = region.to_crs(epsg=3857) # utilise des mètres à la place des degrés\n",
    "palette = sns.diverging_palette(150, 275, n=20, as_cmap=True) # dégradé pour remplacer 'viridis'"
   ]
  },
  {
   "cell_type": "code",
   "execution_count": null,
   "id": "7cb84ddc",
   "metadata": {},
   "outputs": [],
   "source": [
    "ax = region.plot(figsize = (20,20),alpha=0.8,column = \"Score de bonheur\", cmap=palette, edgecolor='w', legend=True, legend_kwds={\"label\":\"Score de bonheur\",'shrink': 0.6})\n",
    "cx.add_basemap(ax, url=cx.providers.Stamen.Watercolor) # parcequ'on peut...\n",
    "ax.axis('off')"
   ]
  },
  {
   "cell_type": "markdown",
   "id": "16026c8c",
   "metadata": {
    "deletable": false,
    "editable": false,
    "nbgrader": {
     "cell_type": "markdown",
     "checksum": "b929115e10f7e41120b0bbc788ed315d",
     "grade": false,
     "grade_id": "cell-a15e6d8ff65a33e5",
     "locked": true,
     "schema_version": 3,
     "solution": false,
     "task": false
    }
   },
   "source": [
    "Modifier les cellules qui précèdent pour que le graphique ci-dessus affiche la carte du PIB par habitant des pays d'Asie du sud."
   ]
  },
  {
   "cell_type": "code",
   "execution_count": null,
   "id": "5d1b4311",
   "metadata": {
    "deletable": false,
    "editable": false,
    "nbgrader": {
     "cell_type": "code",
     "checksum": "6285cd39e11e16dd605cbb0ed28783b9",
     "grade": true,
     "grade_id": "rep_carte",
     "locked": true,
     "points": 1,
     "schema_version": 3,
     "solution": false,
     "task": false
    }
   },
   "outputs": [],
   "source": [
    "# Cellule de vérification (ne pas modifier)"
   ]
  },
  {
   "cell_type": "markdown",
   "id": "43b919ca",
   "metadata": {
    "deletable": false,
    "editable": false,
    "nbgrader": {
     "cell_type": "markdown",
     "checksum": "080ad2a1fbdf40d71d5addde0063bc9a",
     "grade": false,
     "grade_id": "cell-d5fbd88458eff323",
     "locked": true,
     "schema_version": 3,
     "solution": false,
     "task": false
    }
   },
   "source": [
    "De quelle couleur est le Vietnam sur cette carte ?"
   ]
  },
  {
   "cell_type": "code",
   "execution_count": null,
   "id": "de188ac0",
   "metadata": {},
   "outputs": [],
   "source": [
    "# Effacer les deux réponses fausses\n",
    "couleur = \"vert\"\n",
    "couleur = \"rose\"\n",
    "couleur = \"violet\""
   ]
  },
  {
   "cell_type": "code",
   "execution_count": null,
   "id": "61093487",
   "metadata": {
    "deletable": false,
    "editable": false,
    "nbgrader": {
     "cell_type": "code",
     "checksum": "ba229f28f723ecea5de8585f19f971e2",
     "grade": true,
     "grade_id": "rep_carte_2",
     "locked": true,
     "points": 1,
     "schema_version": 3,
     "solution": false,
     "task": false
    }
   },
   "outputs": [],
   "source": [
    "# Cellule de vérification (ne pas modifier)"
   ]
  },
  {
   "cell_type": "code",
   "execution_count": null,
   "id": "acc37327",
   "metadata": {},
   "outputs": [],
   "source": [
    "import folium"
   ]
  },
  {
   "cell_type": "code",
   "execution_count": null,
   "id": "e3f57f33",
   "metadata": {
    "deletable": false,
    "editable": false,
    "nbgrader": {
     "cell_type": "code",
     "checksum": "529fe44bb7d8b3b38da5762884a28a67",
     "grade": false,
     "grade_id": "cell-3525ba1160024910",
     "locked": true,
     "schema_version": 3,
     "solution": false,
     "task": false
    }
   },
   "outputs": [],
   "source": [
    "monde = data_geoloc.to_crs(epsg=4326)\n",
    "mondo = monde.dissolve(by='CNTRY_NAME').reset_index() "
   ]
  },
  {
   "cell_type": "code",
   "execution_count": null,
   "id": "6e297dca",
   "metadata": {
    "deletable": false,
    "editable": false,
    "nbgrader": {
     "cell_type": "code",
     "checksum": "37fad3ebc3af61cebddd7b4b32dd9d5a",
     "grade": false,
     "grade_id": "cell-2907baeb0cfb6345",
     "locked": true,
     "schema_version": 3,
     "solution": false,
     "task": false
    }
   },
   "outputs": [],
   "source": [
    "tuile = 'https://server.arcgisonline.com/ArcGIS/rest/services/Ocean_Basemap/MapServer/tile/{z}/{y}/{x}'"
   ]
  },
  {
   "cell_type": "code",
   "execution_count": null,
   "id": "b55a2b58",
   "metadata": {},
   "outputs": [],
   "source": [
    "mondo[\"Classes\"].astype(pd.Int32Dtype())"
   ]
  },
  {
   "cell_type": "code",
   "execution_count": null,
   "id": "f82da4ee",
   "metadata": {
    "deletable": false,
    "editable": false,
    "nbgrader": {
     "cell_type": "code",
     "checksum": "25fdc73af1ed7cc37d9107af7e468f82",
     "grade": false,
     "grade_id": "cell-cc362a779f025413",
     "locked": true,
     "schema_version": 3,
     "solution": false,
     "task": false
    }
   },
   "outputs": [],
   "source": [
    "carte = folium.Map(location=[46, -1],\n",
    "               tiles=tuile,\n",
    "               attr='Tiles &copy; Esri &mdash; Sources: GEBCO, NOAA, CHS, OSU, UNH, CSUMB, National Geographic, DeLorme, NAVTEQ, and Esri',\n",
    "               min_zoom=2, \n",
    "               max_zoom=6, \n",
    "               zoom_start=4)\n",
    "\n",
    "folium.Choropleth(mondo,                                \n",
    "                  data=mondo,                           \n",
    "                  key_on='feature.properties.CNTRY_NAME', \n",
    "                  columns=['CNTRY_NAME', 'Score de bonheur'],  \n",
    "                  fill_color='PiYG_r',\n",
    "                  bins=11,\n",
    "                  nan_fill_color='white',\n",
    "                  line_weight=0.1,                       \n",
    "                  line_opacity=0.5,                     \n",
    "                  legend_name='Score de bonheur').add_to(carte) \n",
    "\n",
    "carte"
   ]
  },
  {
   "cell_type": "markdown",
   "id": "8c5c7b3c",
   "metadata": {
    "deletable": false,
    "editable": false,
    "nbgrader": {
     "cell_type": "markdown",
     "checksum": "56ec3cd8a5ad6961c906828726adacb6",
     "grade": false,
     "grade_id": "cell-a751445caa07af89",
     "locked": true,
     "schema_version": 3,
     "solution": false,
     "task": false
    }
   },
   "source": [
    "## Série temporelle"
   ]
  },
  {
   "cell_type": "markdown",
   "id": "96276809",
   "metadata": {
    "deletable": false,
    "editable": false,
    "nbgrader": {
     "cell_type": "markdown",
     "checksum": "aec95771f3a806e4a9d4a852e9cc8d17",
     "grade": false,
     "grade_id": "cell-acb18b18836a051c",
     "locked": true,
     "schema_version": 3,
     "solution": false,
     "task": false
    }
   },
   "source": [
    "Utilisons un nouveau jeu de données comprenant des relvés de conommation électrique allemands entre 2006 et 2018 :"
   ]
  },
  {
   "cell_type": "code",
   "execution_count": null,
   "id": "0264869b",
   "metadata": {
    "deletable": false,
    "editable": false,
    "nbgrader": {
     "cell_type": "code",
     "checksum": "0cc48a8316ae17fce0325cff132368c6",
     "grade": false,
     "grade_id": "cell-8f9d3e3c836b5531",
     "locked": true,
     "schema_version": 3,
     "solution": false,
     "task": false
    }
   },
   "outputs": [],
   "source": [
    "url = \"http://cordier-phychi.toile-libre.org/Info/github/elec_allemagne.csv\"\n",
    "serie_temp = pd.read_csv(url,sep=\",\")\n",
    "serie_temp.drop(columns=\"Wind+Solar\",inplace=True)\n",
    "serie_temp"
   ]
  },
  {
   "cell_type": "code",
   "execution_count": null,
   "id": "85ccfe50",
   "metadata": {
    "deletable": false,
    "editable": false,
    "nbgrader": {
     "cell_type": "code",
     "checksum": "0273b565bc15d3c4e4bfc8e3f47c3d4b",
     "grade": false,
     "grade_id": "cell-195ba3235318f13c",
     "locked": true,
     "schema_version": 3,
     "solution": false,
     "task": false
    }
   },
   "outputs": [],
   "source": [
    "serie_temp.dtypes"
   ]
  },
  {
   "cell_type": "markdown",
   "id": "21e5028c",
   "metadata": {
    "deletable": false,
    "editable": false,
    "nbgrader": {
     "cell_type": "markdown",
     "checksum": "96028767946dbc4dc69bbe1ec19572fc",
     "grade": false,
     "grade_id": "cell-b86b56a65d89a772",
     "locked": true,
     "schema_version": 3,
     "solution": false,
     "task": false
    }
   },
   "source": [
    "Petit toilettage des données : on transforme les valeurs de la colonne des dates en un type date reconnu par pandas et on les utilise comme index."
   ]
  },
  {
   "cell_type": "code",
   "execution_count": null,
   "id": "3f4555fc",
   "metadata": {
    "deletable": false,
    "editable": false,
    "nbgrader": {
     "cell_type": "code",
     "checksum": "93ed1d1bfd9c96c8941b501bdacebf43",
     "grade": false,
     "grade_id": "cell-8ea2216190b1817f",
     "locked": true,
     "schema_version": 3,
     "solution": false,
     "task": false
    }
   },
   "outputs": [],
   "source": [
    "serie_temp['Date'] = pd.to_datetime(serie_temp['Date'])\n",
    "serie_temp = serie_temp.set_index('Date')\n",
    "serie_temp.head()"
   ]
  },
  {
   "cell_type": "markdown",
   "id": "8455a94f",
   "metadata": {
    "deletable": false,
    "editable": false,
    "nbgrader": {
     "cell_type": "markdown",
     "checksum": "7bb94169e9927c20d2a9c30784108442",
     "grade": false,
     "grade_id": "cell-4b1e28407b45cb00",
     "locked": true,
     "schema_version": 3,
     "solution": false,
     "task": false
    }
   },
   "source": [
    "On francise ensuite les noms de colonne..."
   ]
  },
  {
   "cell_type": "code",
   "execution_count": null,
   "id": "ba251711",
   "metadata": {
    "deletable": false,
    "editable": false,
    "nbgrader": {
     "cell_type": "code",
     "checksum": "8bed1b04301cd1a1c8124da51e5f9000",
     "grade": false,
     "grade_id": "cell-75ab075860d50cdd",
     "locked": true,
     "schema_version": 3,
     "solution": false,
     "task": false
    }
   },
   "outputs": [],
   "source": [
    "serie_temp.columns = [\"Consommation\",\"Vent\",\"Solaire\"]\n",
    "serie_temp.head()"
   ]
  },
  {
   "cell_type": "markdown",
   "id": "212075b6",
   "metadata": {
    "deletable": false,
    "editable": false,
    "nbgrader": {
     "cell_type": "markdown",
     "checksum": "d44c8e3dbb6d60c45ade7b9ec371ab51",
     "grade": false,
     "grade_id": "cell-6ecd708760a330cf",
     "locked": true,
     "schema_version": 3,
     "solution": false,
     "task": false
    }
   },
   "source": [
    "Et enfin, on ajoute des colonnes \"jour\", \"mois\" et \"année\"."
   ]
  },
  {
   "cell_type": "code",
   "execution_count": null,
   "id": "3efbd98e",
   "metadata": {},
   "outputs": [],
   "source": [
    "serie_temp['jour'] = serie_temp.index.day_name()\n",
    "serie_temp['mois'] = serie_temp.index.month\n",
    "serie_temp['année'] = serie_temp.index.year\n",
    "serie_temp[\"date\"] = serie_temp.index\n",
    "serie_temp[\"date\"]=serie_temp[\"date\"].dt.date # pour aider Colab qui a des soucis avec les dates\n",
    "serie_temp.head()"
   ]
  },
  {
   "cell_type": "code",
   "execution_count": null,
   "id": "fc2e5b32",
   "metadata": {},
   "outputs": [],
   "source": [
    "fig = px.line(serie_temp,x='date',y='Consommation')\n",
    "fig.add_scatter(x=serie_temp['date'], y=serie_temp['Vent'], mode='lines',name='Vent')\n",
    "fig.add_scatter(x=serie_temp['date'], y=serie_temp['Solaire'], mode='lines',name='Solaire')\n",
    "# px.line(serie_temp[[\"Consommation\",\"Vent\",\"Solaire\"]]) devrait normalement suffire mais Colab fait des siennes"
   ]
  },
  {
   "cell_type": "markdown",
   "id": "ed9d084d",
   "metadata": {
    "deletable": false,
    "editable": false,
    "nbgrader": {
     "cell_type": "markdown",
     "checksum": "cf928332db16403783229399ae5e9ef4",
     "grade": false,
     "grade_id": "cell-5a5fe8e3db280517",
     "locked": true,
     "schema_version": 3,
     "solution": false,
     "task": false
    }
   },
   "source": [
    "On constate d'importantes variations saisonnières."
   ]
  },
  {
   "cell_type": "code",
   "execution_count": null,
   "id": "4fcb878e",
   "metadata": {},
   "outputs": [],
   "source": [
    "zoom = serie_temp[serie_temp['année']==2016]\n",
    "fig1 = px.line(zoom,'date','Consommation')\n",
    "fig2 = px.scatter(zoom,'date','Consommation',color='jour')\n",
    "fig = go.Figure()\n",
    "fig.add_traces([fig1.data[0],*[fig2.data[i] for i in range(7)]])"
   ]
  },
  {
   "cell_type": "markdown",
   "id": "11ff1c31",
   "metadata": {
    "deletable": false,
    "editable": false,
    "nbgrader": {
     "cell_type": "markdown",
     "checksum": "899db61fb2fafcd829f1cfaefa491096",
     "grade": false,
     "grade_id": "cell-e1dede2640156e65",
     "locked": true,
     "schema_version": 3,
     "solution": false,
     "task": false
    }
   },
   "source": [
    "Une variabilité hebdomadaire se superpose à la tendance saisonnière."
   ]
  },
  {
   "cell_type": "markdown",
   "id": "873be6e5",
   "metadata": {
    "deletable": false,
    "editable": false,
    "nbgrader": {
     "cell_type": "markdown",
     "checksum": "6c97dc23a85af7a4e5686429b9a86d86",
     "grade": false,
     "grade_id": "cell-b70e81b4938e5299",
     "locked": true,
     "schema_version": 3,
     "solution": false,
     "task": false
    }
   },
   "source": [
    "Traçons une boîte à moustaches de la répartition des 3 variables mois par mois :"
   ]
  },
  {
   "cell_type": "code",
   "execution_count": null,
   "id": "a545a460",
   "metadata": {},
   "outputs": [],
   "source": [
    "fig, axes = plt.subplots(3, 1, figsize=(15, 10), sharex=True)\n",
    "for var, ax in zip(['Consommation', 'Solaire', 'Vent'], axes):\n",
    "    sns.boxplot(data=serie_temp, x='mois', y=var, ax=ax)  \n",
    "    ax.set_ylabel('GWh')\n",
    "    ax.set_title(var)  \n",
    "    if ax != axes[-1]:\n",
    "        ax.set_xlabel('')"
   ]
  },
  {
   "cell_type": "markdown",
   "id": "9247d22b",
   "metadata": {
    "deletable": false,
    "editable": false,
    "nbgrader": {
     "cell_type": "markdown",
     "checksum": "82baff76c1ddb1eadaa811a1df4f113d",
     "grade": false,
     "grade_id": "cell-47daa6ca6c96fe0b",
     "locked": true,
     "schema_version": 3,
     "solution": false,
     "task": false
    }
   },
   "source": [
    "On observe que :\n",
    "- les trois graphes présentent bien une variabilité saisonnière ; la consommation électrique est plus forte en hiver ainsi que la production éolienne (même si l'écart est moins marqué) et la production solaire est beaucoup plus importante en été.\n",
    "- beaucoup de valeurs se retrouvent à l'extérieur des moustaches supérieures pour la production éolienne, ce qui est probablement dû à des périodes de fort vent."
   ]
  },
  {
   "cell_type": "markdown",
   "id": "a17a7a16",
   "metadata": {},
   "source": [
    "Regardons maintenant jour par jour :"
   ]
  },
  {
   "cell_type": "code",
   "execution_count": null,
   "id": "ae495208",
   "metadata": {},
   "outputs": [],
   "source": [
    "serie_temp[\"date\"]=(serie_temp.index.strftime('%d %B'))\n",
    "px.box(serie_temp,x='jour', y='Consommation',hover_data={\"date\"})"
   ]
  },
  {
   "cell_type": "markdown",
   "id": "73c84252",
   "metadata": {
    "deletable": false,
    "editable": false,
    "nbgrader": {
     "cell_type": "markdown",
     "checksum": "7516f259a1d28828f8b645b7ad07f0ab",
     "grade": false,
     "grade_id": "cell-4121cb9455f8044f",
     "locked": true,
     "schema_version": 3,
     "solution": false,
     "task": false
    }
   },
   "source": [
    "Pourquoi y a-t-il autant de points au-delà des moustaches les jours de semaine ?"
   ]
  },
  {
   "cell_type": "code",
   "execution_count": null,
   "id": "e405b729",
   "metadata": {},
   "outputs": [],
   "source": [
    "# Écrire votre explication dans la chaîne de caractères ci-dessous\n",
    "explication = \"\"\"\n",
    "bla\n",
    "bla\n",
    "bla\n",
    "\"\"\""
   ]
  },
  {
   "cell_type": "code",
   "execution_count": null,
   "id": "80b4ddb3",
   "metadata": {
    "deletable": false,
    "editable": false,
    "nbgrader": {
     "cell_type": "code",
     "checksum": "cd0a83b45e976d78dc9258d6bbf15dcc",
     "grade": true,
     "grade_id": "rep_outliers",
     "locked": true,
     "points": 1,
     "schema_version": 3,
     "solution": false,
     "task": false
    }
   },
   "outputs": [],
   "source": [
    "# Cellule de Vérification (ne pas modifier)"
   ]
  }
 ],
 "metadata": {
  "kernelspec": {
   "display_name": "Python 3",
   "language": "python",
   "name": "python3"
  },
  "language_info": {
   "codemirror_mode": {
    "name": "ipython",
    "version": 3
   },
   "file_extension": ".py",
   "mimetype": "text/x-python",
   "name": "python",
   "nbconvert_exporter": "python",
   "pygments_lexer": "ipython3",
   "version": "3.8.2"
  }
 },
 "nbformat": 4,
 "nbformat_minor": 5
}
